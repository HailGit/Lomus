{
  "nbformat": 4,
  "nbformat_minor": 0,
  "metadata": {
    "colab": {
      "name": "Where did you gone Lomus.ipynb",
      "provenance": [],
      "collapsed_sections": [],
      "toc_visible": true
    },
    "kernelspec": {
      "name": "python3",
      "display_name": "Python 3"
    }
  },
  "cells": [
    {
      "cell_type": "markdown",
      "metadata": {
        "id": "FVKQGkgY3_7Q"
      },
      "source": [
        "Importieren aller wichtigen Bibliotheken\r\n"
      ]
    },
    {
      "cell_type": "code",
      "metadata": {
        "id": "_6cxRYGdPyLw"
      },
      "source": [
        "import pandas as pd\n",
        "import numpy as np\n",
        "import matplotlib.pyplot as plt\n",
        "import seaborn as sns\n",
        "%matplotlib inline\n",
        "import seaborn as sns\n",
        "pd.options.display.max_rows = None\n",
        "pd.options.display.max_columns = None"
      ],
      "execution_count": null,
      "outputs": []
    },
    {
      "cell_type": "code",
      "metadata": {
        "id": "i10FEQ-6XSVv",
        "colab": {
          "base_uri": "https://localhost:8080/"
        },
        "outputId": "ffbc210b-ca9d-451a-a148-46d8e2369f3f"
      },
      "source": [
        "from sklearn.preprocessing import LabelEncoder\r\n",
        "from sklearn.feature_selection import chi2, SelectKBest, RFE\r\n",
        "from sklearn.metrics import accuracy_score, f1_score, roc_auc_score\r\n",
        "from sklearn.model_selection import train_test_split\r\n",
        "from imblearn.combine import SMOTETomek\r\n",
        "from sklearn.linear_model import LogisticRegression\r\n",
        "from sklearn import tree\r\n",
        "from sklearn.tree import DecisionTreeClassifier\r\n",
        "from sklearn.ensemble import RandomForestClassifier\r\n",
        "from sklearn.model_selection import GridSearchCV\r\n",
        "from sklearn.model_selection import RandomizedSearchCV\r\n",
        "from sklearn.model_selection import KFold\r\n",
        "from sklearn.model_selection import StratifiedKFold\r\n",
        "from sklearn.metrics import accuracy_score, confusion_matrix, classification_report\r\n"
      ],
      "execution_count": null,
      "outputs": [
        {
          "output_type": "stream",
          "text": [
            "/usr/local/lib/python3.6/dist-packages/sklearn/externals/six.py:31: FutureWarning: The module is deprecated in version 0.21 and will be removed in version 0.23 since we've dropped support for Python 2.7. Please rely on the official version of six (https://pypi.org/project/six/).\n",
            "  \"(https://pypi.org/project/six/).\", FutureWarning)\n",
            "/usr/local/lib/python3.6/dist-packages/sklearn/utils/deprecation.py:144: FutureWarning: The sklearn.neighbors.base module is  deprecated in version 0.22 and will be removed in version 0.24. The corresponding classes / functions should instead be imported from sklearn.neighbors. Anything that cannot be imported from sklearn.neighbors is now part of the private API.\n",
            "  warnings.warn(message, FutureWarning)\n"
          ],
          "name": "stderr"
        }
      ]
    },
    {
      "cell_type": "code",
      "metadata": {
        "id": "C95FVym6SXa7",
        "colab": {
          "base_uri": "https://localhost:8080/"
        },
        "outputId": "4d6b0634-02e0-44ef-a8c3-e49fef87e8da"
      },
      "source": [
        "!pip install pandas"
      ],
      "execution_count": null,
      "outputs": [
        {
          "output_type": "stream",
          "text": [
            "Requirement already satisfied: pandas in /usr/local/lib/python3.6/dist-packages (1.1.5)\n",
            "Requirement already satisfied: python-dateutil>=2.7.3 in /usr/local/lib/python3.6/dist-packages (from pandas) (2.8.1)\n",
            "Requirement already satisfied: numpy>=1.15.4 in /usr/local/lib/python3.6/dist-packages (from pandas) (1.19.4)\n",
            "Requirement already satisfied: pytz>=2017.2 in /usr/local/lib/python3.6/dist-packages (from pandas) (2018.9)\n",
            "Requirement already satisfied: six>=1.5 in /usr/local/lib/python3.6/dist-packages (from python-dateutil>=2.7.3->pandas) (1.15.0)\n"
          ],
          "name": "stdout"
        }
      ]
    },
    {
      "cell_type": "markdown",
      "metadata": {
        "id": "lZ0AZiIOqcoT"
      },
      "source": [
        "# Datenverständnis"
      ]
    },
    {
      "cell_type": "markdown",
      "metadata": {
        "id": "Jj1ZNqMt4G_3"
      },
      "source": [
        "Datenimport"
      ]
    },
    {
      "cell_type": "code",
      "metadata": {
        "id": "QyO_ZrNWH2VC",
        "colab": {
          "base_uri": "https://localhost:8080/"
        },
        "outputId": "67a780e3-9396-4fef-d2ad-259c67d99101"
      },
      "source": [
        "from google.colab import drive\r\n",
        "drive.mount('/content/drive')"
      ],
      "execution_count": null,
      "outputs": [
        {
          "output_type": "stream",
          "text": [
            "Mounted at /content/drive\n"
          ],
          "name": "stdout"
        }
      ]
    },
    {
      "cell_type": "markdown",
      "metadata": {
        "id": "EP5Dd5Qc4NMP"
      },
      "source": [
        " Laden des Datensatzes  "
      ]
    },
    {
      "cell_type": "code",
      "metadata": {
        "id": "zV5KeomQQVDO",
        "colab": {
          "base_uri": "https://localhost:8080/",
          "height": 225
        },
        "outputId": "9ce8e371-4fb4-40b8-8f0d-0f47df7ebb08"
      },
      "source": [
        "mms = pd.read_csv('/content/drive/MyDrive/inf505/bank_marketing_adal_v1.0.csv',sep= ';')\n",
        "print(mms.shape)\n",
        "mms.head()"
      ],
      "execution_count": null,
      "outputs": [
        {
          "output_type": "stream",
          "text": [
            "(20493, 10)\n"
          ],
          "name": "stdout"
        },
        {
          "output_type": "execute_result",
          "data": {
            "text/html": [
              "<div>\n",
              "<style scoped>\n",
              "    .dataframe tbody tr th:only-of-type {\n",
              "        vertical-align: middle;\n",
              "    }\n",
              "\n",
              "    .dataframe tbody tr th {\n",
              "        vertical-align: top;\n",
              "    }\n",
              "\n",
              "    .dataframe thead th {\n",
              "        text-align: right;\n",
              "    }\n",
              "</style>\n",
              "<table border=\"1\" class=\"dataframe\">\n",
              "  <thead>\n",
              "    <tr style=\"text-align: right;\">\n",
              "      <th></th>\n",
              "      <th>Alter</th>\n",
              "      <th>Beruf</th>\n",
              "      <th>Familienstand</th>\n",
              "      <th>Ausbildung</th>\n",
              "      <th>Ausgefallen</th>\n",
              "      <th>Kontostand</th>\n",
              "      <th>Eigentum</th>\n",
              "      <th>Darlehen</th>\n",
              "      <th>Dauer</th>\n",
              "      <th>Label</th>\n",
              "    </tr>\n",
              "  </thead>\n",
              "  <tbody>\n",
              "    <tr>\n",
              "      <th>0</th>\n",
              "      <td>31</td>\n",
              "      <td>Freiberufler</td>\n",
              "      <td>verheiratet</td>\n",
              "      <td>Allgemeine Hochschulreife</td>\n",
              "      <td>0</td>\n",
              "      <td>162</td>\n",
              "      <td>1</td>\n",
              "      <td>1</td>\n",
              "      <td>0</td>\n",
              "      <td>1</td>\n",
              "    </tr>\n",
              "    <tr>\n",
              "      <th>1</th>\n",
              "      <td>28</td>\n",
              "      <td>Beamter</td>\n",
              "      <td>verheiratet</td>\n",
              "      <td>Allgemeine Hochschulreife</td>\n",
              "      <td>0</td>\n",
              "      <td>1595</td>\n",
              "      <td>0</td>\n",
              "      <td>0</td>\n",
              "      <td>1</td>\n",
              "      <td>0</td>\n",
              "    </tr>\n",
              "    <tr>\n",
              "      <th>2</th>\n",
              "      <td>39</td>\n",
              "      <td>Techniker</td>\n",
              "      <td>geschieden</td>\n",
              "      <td>Allgemeine Hochschulreife</td>\n",
              "      <td>0</td>\n",
              "      <td>17441</td>\n",
              "      <td>1</td>\n",
              "      <td>1</td>\n",
              "      <td>1</td>\n",
              "      <td>1</td>\n",
              "    </tr>\n",
              "    <tr>\n",
              "      <th>3</th>\n",
              "      <td>54</td>\n",
              "      <td>Arbeitslos</td>\n",
              "      <td>geschieden</td>\n",
              "      <td>Allgemeine Hochschulreife</td>\n",
              "      <td>0</td>\n",
              "      <td>925</td>\n",
              "      <td>0</td>\n",
              "      <td>0</td>\n",
              "      <td>2</td>\n",
              "      <td>0</td>\n",
              "    </tr>\n",
              "    <tr>\n",
              "      <th>4</th>\n",
              "      <td>24</td>\n",
              "      <td>Techniker</td>\n",
              "      <td>ledig</td>\n",
              "      <td>Allgemeine Hochschulreife</td>\n",
              "      <td>0</td>\n",
              "      <td>-156</td>\n",
              "      <td>1</td>\n",
              "      <td>0</td>\n",
              "      <td>4</td>\n",
              "      <td>0</td>\n",
              "    </tr>\n",
              "  </tbody>\n",
              "</table>\n",
              "</div>"
            ],
            "text/plain": [
              "   Alter         Beruf Familienstand                 Ausbildung  Ausgefallen  \\\n",
              "0     31  Freiberufler   verheiratet  Allgemeine Hochschulreife            0   \n",
              "1     28       Beamter   verheiratet  Allgemeine Hochschulreife            0   \n",
              "2     39     Techniker    geschieden  Allgemeine Hochschulreife            0   \n",
              "3     54    Arbeitslos    geschieden  Allgemeine Hochschulreife            0   \n",
              "4     24     Techniker         ledig  Allgemeine Hochschulreife            0   \n",
              "\n",
              "   Kontostand  Eigentum  Darlehen  Dauer  Label  \n",
              "0         162         1         1      0      1  \n",
              "1        1595         0         0      1      0  \n",
              "2       17441         1         1      1      1  \n",
              "3         925         0         0      2      0  \n",
              "4        -156         1         0      4      0  "
            ]
          },
          "metadata": {
            "tags": []
          },
          "execution_count": 5
        }
      ]
    },
    {
      "cell_type": "markdown",
      "metadata": {
        "id": "Z88dEU2t4i4l"
      },
      "source": [
        "Erkennen der Datentypen"
      ]
    },
    {
      "cell_type": "code",
      "metadata": {
        "id": "EW-bqxzqk36-",
        "colab": {
          "base_uri": "https://localhost:8080/"
        },
        "outputId": "c89217fd-2f41-48b8-e032-252f20824231"
      },
      "source": [
        "mms.dtypes"
      ],
      "execution_count": null,
      "outputs": [
        {
          "output_type": "execute_result",
          "data": {
            "text/plain": [
              "Alter             int64\n",
              "Beruf            object\n",
              "Familienstand    object\n",
              "Ausbildung       object\n",
              "Ausgefallen       int64\n",
              "Kontostand        int64\n",
              "Eigentum          int64\n",
              "Darlehen          int64\n",
              "Dauer             int64\n",
              "Label             int64\n",
              "dtype: object"
            ]
          },
          "metadata": {
            "tags": []
          },
          "execution_count": 6
        }
      ]
    },
    {
      "cell_type": "markdown",
      "metadata": {
        "id": "SFl4FYhZ4mfn"
      },
      "source": [
        "Fehlende Daten überprüfen"
      ]
    },
    {
      "cell_type": "code",
      "metadata": {
        "id": "a0YzmBCblHox",
        "colab": {
          "base_uri": "https://localhost:8080/"
        },
        "outputId": "d2e7b879-911e-4708-ef0b-cbe567b1460d"
      },
      "source": [
        "mms.isnull().sum()"
      ],
      "execution_count": null,
      "outputs": [
        {
          "output_type": "execute_result",
          "data": {
            "text/plain": [
              "Alter            0\n",
              "Beruf            0\n",
              "Familienstand    0\n",
              "Ausbildung       0\n",
              "Ausgefallen      0\n",
              "Kontostand       0\n",
              "Eigentum         0\n",
              "Darlehen         0\n",
              "Dauer            0\n",
              "Label            0\n",
              "dtype: int64"
            ]
          },
          "metadata": {
            "tags": []
          },
          "execution_count": 7
        }
      ]
    },
    {
      "cell_type": "markdown",
      "metadata": {
        "id": "gTZ_ZKYR40zV"
      },
      "source": [
        "Überprüfen der eindeutigen Daten"
      ]
    },
    {
      "cell_type": "code",
      "metadata": {
        "id": "1i8Hz6QjToit",
        "colab": {
          "base_uri": "https://localhost:8080/"
        },
        "outputId": "1a876ed9-181a-4897-f31b-f0ad3bd4326d"
      },
      "source": [
        "for col in mms:\r\n",
        "    print(f'{col}: {mms[col].unique()}')"
      ],
      "execution_count": null,
      "outputs": [
        {
          "output_type": "stream",
          "text": [
            "Alter: [31 28 39 54 24 27 40 30 23 35 44 22 21 45 34 41 36 58 38 56 25 33 49 43\n",
            " 46 26 37 29 42 53 50 48 52 32 47 55 51 57 60 59 69 20 62 61 65 63 66 64\n",
            " 19 67 68 18]\n",
            "Beruf: ['Freiberufler' 'Beamter' 'Techniker' 'Arbeitslos' 'unbekannt'\n",
            " 'Servicekraft' 'Student' 'Angestellter' 'Rentner' 'Selbständig'\n",
            " 'Hausgehilfin']\n",
            "Familienstand: ['verheiratet' 'geschieden' 'ledig']\n",
            "Ausbildung: ['Allgemeine Hochschulreife' 'Hochschulabschluss' 'Mittlere Reife'\n",
            " 'unbekannt']\n",
            "Ausgefallen: [0 1]\n",
            "Kontostand: [  162  1595 17441 ...  2965  6850  5603]\n",
            "Eigentum: [1 0]\n",
            "Darlehen: [1 0]\n",
            "Dauer: [   0    1    2 ... 2420 2453 2456]\n",
            "Label: [1 0]\n"
          ],
          "name": "stdout"
        }
      ]
    },
    {
      "cell_type": "code",
      "metadata": {
        "id": "tJuDbclslXRu",
        "colab": {
          "base_uri": "https://localhost:8080/"
        },
        "outputId": "f2a3fd29-2eb6-497a-d710-1ba4d259fdb9"
      },
      "source": [
        "mms.nunique()"
      ],
      "execution_count": null,
      "outputs": [
        {
          "output_type": "execute_result",
          "data": {
            "text/plain": [
              "Alter              52\n",
              "Beruf              11\n",
              "Familienstand       3\n",
              "Ausbildung          4\n",
              "Ausgefallen         2\n",
              "Kontostand       5124\n",
              "Eigentum            2\n",
              "Darlehen            2\n",
              "Dauer            1460\n",
              "Label               2\n",
              "dtype: int64"
            ]
          },
          "metadata": {
            "tags": []
          },
          "execution_count": 9
        }
      ]
    },
    {
      "cell_type": "markdown",
      "metadata": {
        "id": "VS6Nc03R483D"
      },
      "source": [
        "Datenanalyse:\r\n",
        "Verständnis, wie sich die angegebenen Attribute auch auf den Status 'Label' beziehen."
      ]
    },
    {
      "cell_type": "code",
      "metadata": {
        "id": "0J57sbwMbaWR",
        "colab": {
          "base_uri": "https://localhost:8080/",
          "height": 487
        },
        "outputId": "c12f6a12-bfc6-4396-ffff-be4467000d82"
      },
      "source": [
        "labels = 'erwerbbar', 'nicht erwerbbar'\r\n",
        "sizes = [mms.Label[mms['Label']==1].count(), mms.Label[mms['Label']==0].count()]\r\n",
        "explode = (0, 0.1)\r\n",
        "fig1, ax1 = plt.subplots(figsize=(10, 8))\r\n",
        "ax1.pie(sizes, explode=explode, labels=labels, autopct='%1.1f%%',\r\n",
        "        shadow=True, startangle=90)\r\n",
        "ax1.axis('equal')\r\n",
        "plt.title(\"Anzahl der Kunden,die das Product  erwerben\", size = 20)\r\n",
        "plt.show()"
      ],
      "execution_count": null,
      "outputs": [
        {
          "output_type": "display_data",
          "data": {
            "image/png": "[encoded data removed]",
            "text/plain": [
              "<Figure size 720x576 with 1 Axes>"
            ]
          },
          "metadata": {
            "tags": []
          }
        }
      ]
    },
    {
      "cell_type": "markdown",
      "metadata": {
        "id": "vaEiwgja5neS"
      },
      "source": [
        "Beziehungen basierend auf den fortlaufenden Datenattributen"
      ]
    },
    {
      "cell_type": "code",
      "metadata": {
        "colab": {
          "base_uri": "https://localhost:8080/",
          "height": 279
        },
        "id": "EsdsBs9Su-_4",
        "outputId": "c312688b-33eb-4551-9b8e-4f9525c28aa1"
      },
      "source": [
        "ax= sns.violinplot(x='Label',y='Dauer',data=mms)"
      ],
      "execution_count": null,
      "outputs": [
        {
          "output_type": "display_data",
          "data": {
            "image/png": "[encoded data removed]",
            "text/plain": [
              "<Figure size 432x288 with 1 Axes>"
            ]
          },
          "metadata": {
            "tags": [],
            "needs_background": "light"
          }
        }
      ]
    },
    {
      "cell_type": "code",
      "metadata": {
        "colab": {
          "base_uri": "https://localhost:8080/",
          "height": 279
        },
        "id": "8O4RWOhU0bpB",
        "outputId": "73f60462-0938-430e-fbd6-bb114641d379"
      },
      "source": [
        "ax= sns.violinplot(x='Label',y='Kontostand',data=mms)"
      ],
      "execution_count": null,
      "outputs": [
        {
          "output_type": "display_data",
          "data": {
            "image/png": "[encoded data removed]",
            "text/plain": [
              "<Figure size 432x288 with 1 Axes>"
            ]
          },
          "metadata": {
            "tags": [],
            "needs_background": "light"
          }
        }
      ]
    },
    {
      "cell_type": "code",
      "metadata": {
        "colab": {
          "base_uri": "https://localhost:8080/",
          "height": 279
        },
        "id": "JiQnfznV0hZk",
        "outputId": "f6f59579-ffc3-447e-9c3a-363401d280bd"
      },
      "source": [
        "ax= sns.violinplot(x='Label',y='Alter',data=mms)"
      ],
      "execution_count": null,
      "outputs": [
        {
          "output_type": "display_data",
          "data": {
            "image/png": "[encoded data removed]",
            "text/plain": [
              "<Figure size 432x288 with 1 Axes>"
            ]
          },
          "metadata": {
            "tags": [],
            "needs_background": "light"
          }
        }
      ]
    },
    {
      "cell_type": "code",
      "metadata": {
        "colab": {
          "base_uri": "https://localhost:8080/",
          "height": 363
        },
        "id": "fDbE8a8SEtX7",
        "outputId": "2c65a919-f36c-4db9-9411-10263b9a0171"
      },
      "source": [
        "mms.describe(include = 'all').transpose()"
      ],
      "execution_count": null,
      "outputs": [
        {
          "output_type": "execute_result",
          "data": {
            "text/html": [
              "<div>\n",
              "<style scoped>\n",
              "    .dataframe tbody tr th:only-of-type {\n",
              "        vertical-align: middle;\n",
              "    }\n",
              "\n",
              "    .dataframe tbody tr th {\n",
              "        vertical-align: top;\n",
              "    }\n",
              "\n",
              "    .dataframe thead th {\n",
              "        text-align: right;\n",
              "    }\n",
              "</style>\n",
              "<table border=\"1\" class=\"dataframe\">\n",
              "  <thead>\n",
              "    <tr style=\"text-align: right;\">\n",
              "      <th></th>\n",
              "      <th>count</th>\n",
              "      <th>unique</th>\n",
              "      <th>top</th>\n",
              "      <th>freq</th>\n",
              "      <th>mean</th>\n",
              "      <th>std</th>\n",
              "      <th>min</th>\n",
              "      <th>25%</th>\n",
              "      <th>50%</th>\n",
              "      <th>75%</th>\n",
              "      <th>max</th>\n",
              "    </tr>\n",
              "  </thead>\n",
              "  <tbody>\n",
              "    <tr>\n",
              "      <th>Alter</th>\n",
              "      <td>20493</td>\n",
              "      <td>NaN</td>\n",
              "      <td>NaN</td>\n",
              "      <td>NaN</td>\n",
              "      <td>39.4865</td>\n",
              "      <td>10.3343</td>\n",
              "      <td>18</td>\n",
              "      <td>32</td>\n",
              "      <td>37</td>\n",
              "      <td>47</td>\n",
              "      <td>69</td>\n",
              "    </tr>\n",
              "    <tr>\n",
              "      <th>Beruf</th>\n",
              "      <td>20493</td>\n",
              "      <td>11</td>\n",
              "      <td>unbekannt</td>\n",
              "      <td>4535</td>\n",
              "      <td>NaN</td>\n",
              "      <td>NaN</td>\n",
              "      <td>NaN</td>\n",
              "      <td>NaN</td>\n",
              "      <td>NaN</td>\n",
              "      <td>NaN</td>\n",
              "      <td>NaN</td>\n",
              "    </tr>\n",
              "    <tr>\n",
              "      <th>Familienstand</th>\n",
              "      <td>20493</td>\n",
              "      <td>3</td>\n",
              "      <td>verheiratet</td>\n",
              "      <td>11173</td>\n",
              "      <td>NaN</td>\n",
              "      <td>NaN</td>\n",
              "      <td>NaN</td>\n",
              "      <td>NaN</td>\n",
              "      <td>NaN</td>\n",
              "      <td>NaN</td>\n",
              "      <td>NaN</td>\n",
              "    </tr>\n",
              "    <tr>\n",
              "      <th>Ausbildung</th>\n",
              "      <td>20493</td>\n",
              "      <td>4</td>\n",
              "      <td>Allgemeine Hochschulreife</td>\n",
              "      <td>10522</td>\n",
              "      <td>NaN</td>\n",
              "      <td>NaN</td>\n",
              "      <td>NaN</td>\n",
              "      <td>NaN</td>\n",
              "      <td>NaN</td>\n",
              "      <td>NaN</td>\n",
              "      <td>NaN</td>\n",
              "    </tr>\n",
              "    <tr>\n",
              "      <th>Ausgefallen</th>\n",
              "      <td>20493</td>\n",
              "      <td>NaN</td>\n",
              "      <td>NaN</td>\n",
              "      <td>NaN</td>\n",
              "      <td>0.0114673</td>\n",
              "      <td>0.106472</td>\n",
              "      <td>0</td>\n",
              "      <td>0</td>\n",
              "      <td>0</td>\n",
              "      <td>0</td>\n",
              "      <td>1</td>\n",
              "    </tr>\n",
              "    <tr>\n",
              "      <th>Kontostand</th>\n",
              "      <td>20493</td>\n",
              "      <td>NaN</td>\n",
              "      <td>NaN</td>\n",
              "      <td>NaN</td>\n",
              "      <td>1428.93</td>\n",
              "      <td>2378.8</td>\n",
              "      <td>-4057</td>\n",
              "      <td>141</td>\n",
              "      <td>561</td>\n",
              "      <td>1640</td>\n",
              "      <td>19985</td>\n",
              "    </tr>\n",
              "    <tr>\n",
              "      <th>Eigentum</th>\n",
              "      <td>20493</td>\n",
              "      <td>NaN</td>\n",
              "      <td>NaN</td>\n",
              "      <td>NaN</td>\n",
              "      <td>0.567852</td>\n",
              "      <td>0.495387</td>\n",
              "      <td>0</td>\n",
              "      <td>0</td>\n",
              "      <td>1</td>\n",
              "      <td>1</td>\n",
              "      <td>1</td>\n",
              "    </tr>\n",
              "    <tr>\n",
              "      <th>Darlehen</th>\n",
              "      <td>20493</td>\n",
              "      <td>NaN</td>\n",
              "      <td>NaN</td>\n",
              "      <td>NaN</td>\n",
              "      <td>0.132338</td>\n",
              "      <td>0.338866</td>\n",
              "      <td>0</td>\n",
              "      <td>0</td>\n",
              "      <td>0</td>\n",
              "      <td>0</td>\n",
              "      <td>1</td>\n",
              "    </tr>\n",
              "    <tr>\n",
              "      <th>Dauer</th>\n",
              "      <td>20493</td>\n",
              "      <td>NaN</td>\n",
              "      <td>NaN</td>\n",
              "      <td>NaN</td>\n",
              "      <td>298.072</td>\n",
              "      <td>291.22</td>\n",
              "      <td>0</td>\n",
              "      <td>113</td>\n",
              "      <td>204</td>\n",
              "      <td>372</td>\n",
              "      <td>2456</td>\n",
              "    </tr>\n",
              "    <tr>\n",
              "      <th>Label</th>\n",
              "      <td>20493</td>\n",
              "      <td>NaN</td>\n",
              "      <td>NaN</td>\n",
              "      <td>NaN</td>\n",
              "      <td>0.237789</td>\n",
              "      <td>0.425739</td>\n",
              "      <td>0</td>\n",
              "      <td>0</td>\n",
              "      <td>0</td>\n",
              "      <td>0</td>\n",
              "      <td>1</td>\n",
              "    </tr>\n",
              "  </tbody>\n",
              "</table>\n",
              "</div>"
            ],
            "text/plain": [
              "               count unique                        top   freq       mean  \\\n",
              "Alter          20493    NaN                        NaN    NaN    39.4865   \n",
              "Beruf          20493     11                  unbekannt   4535        NaN   \n",
              "Familienstand  20493      3                verheiratet  11173        NaN   \n",
              "Ausbildung     20493      4  Allgemeine Hochschulreife  10522        NaN   \n",
              "Ausgefallen    20493    NaN                        NaN    NaN  0.0114673   \n",
              "Kontostand     20493    NaN                        NaN    NaN    1428.93   \n",
              "Eigentum       20493    NaN                        NaN    NaN   0.567852   \n",
              "Darlehen       20493    NaN                        NaN    NaN   0.132338   \n",
              "Dauer          20493    NaN                        NaN    NaN    298.072   \n",
              "Label          20493    NaN                        NaN    NaN   0.237789   \n",
              "\n",
              "                    std   min  25%  50%   75%    max  \n",
              "Alter           10.3343    18   32   37    47     69  \n",
              "Beruf               NaN   NaN  NaN  NaN   NaN    NaN  \n",
              "Familienstand       NaN   NaN  NaN  NaN   NaN    NaN  \n",
              "Ausbildung          NaN   NaN  NaN  NaN   NaN    NaN  \n",
              "Ausgefallen    0.106472     0    0    0     0      1  \n",
              "Kontostand       2378.8 -4057  141  561  1640  19985  \n",
              "Eigentum       0.495387     0    0    1     1      1  \n",
              "Darlehen       0.338866     0    0    0     0      1  \n",
              "Dauer            291.22     0  113  204   372   2456  \n",
              "Label          0.425739     0    0    0     0      1  "
            ]
          },
          "metadata": {
            "tags": []
          },
          "execution_count": 14
        }
      ]
    },
    {
      "cell_type": "code",
      "metadata": {
        "colab": {
          "base_uri": "https://localhost:8080/",
          "height": 1000
        },
        "id": "z6CuF8NW9mfN",
        "outputId": "3e7b8519-cd06-4aae-ec3f-3bec3919d19e"
      },
      "source": [
        "# Identifizierung der kategorialen Variablen\r\n",
        "badi= mms.select_dtypes(include= [\"object\"]).columns\r\n",
        "print(badi)\r\n",
        "\r\n",
        "# Zeichnen eines Balkendiagramms für jede kategoriale Variable\r\n",
        "plt.style.use(\"ggplot\")\r\n",
        "\r\n",
        "for column in badi:\r\n",
        "    plt.figure(figsize=(20,4))\r\n",
        "    plt.subplot(121)\r\n",
        "    mms[column].value_counts().plot(kind=\"bar\")\r\n",
        "    plt.xlabel(column)\r\n",
        "    plt.ylabel(\"Anzahl der Kunden\")\r\n",
        "    plt.title(column)"
      ],
      "execution_count": null,
      "outputs": [
        {
          "output_type": "stream",
          "text": [
            "Index(['Beruf', 'Familienstand', 'Ausbildung'], dtype='object')\n"
          ],
          "name": "stdout"
        },
        {
          "output_type": "display_data",
          "data": {
            "image/png": "[encoded data removed]",
            "text/plain": [
              "<Figure size 1440x288 with 1 Axes>"
            ]
          },
          "metadata": {
            "tags": []
          }
        },
        {
          "output_type": "display_data",
          "data": {
            "image/png": "[encoded data removed]",
            "text/plain": [
              "<Figure size 1440x288 with 1 Axes>"
            ]
          },
          "metadata": {
            "tags": []
          }
        },
        {
          "output_type": "display_data",
          "data": {
            "image/png": "[encoded data removed]",
            "text/plain": [
              "<Figure size 1440x288 with 1 Axes>"
            ]
          },
          "metadata": {
            "tags": []
          }
        }
      ]
    },
    {
      "cell_type": "markdown",
      "metadata": {
        "id": "vRvlplKTqsu8"
      },
      "source": [
        "# Datenvorverarbeitung"
      ]
    },
    {
      "cell_type": "markdown",
      "metadata": {
        "id": "SDXa5w0ryB3E"
      },
      "source": [
        "Normalisierung der Daten, dh alle Einkommensvorteile liegen im Bereich [0,1].\r\n",
        "Algorithmen für maschinelles Lernen können normalerweise nur numerische Werte als unabhängige Variablen haben. Daher ist die Etikettencodierung von entscheidender Bedeutung, da sie kategoriale Etiketten mit geeigneten numerischen Werten codiert."
      ]
    },
    {
      "cell_type": "code",
      "metadata": {
        "colab": {
          "base_uri": "https://localhost:8080/",
          "height": 557
        },
        "id": "1TpRcXOrpNQe",
        "outputId": "90fb6140-ac61-4b9b-eaa8-23c1f998bd64"
      },
      "source": [
        "#kategoriale Konvertierung von Werten in Binärwerte\r\n",
        "df_dummy = pd.get_dummies(mms[['Familienstand', 'Beruf', 'Ausbildung']])\r\n",
        "df_dummy.head(15)\r\n"
      ],
      "execution_count": null,
      "outputs": [
        {
          "output_type": "execute_result",
          "data": {
            "text/html": [
              "<div>\n",
              "<style scoped>\n",
              "    .dataframe tbody tr th:only-of-type {\n",
              "        vertical-align: middle;\n",
              "    }\n",
              "\n",
              "    .dataframe tbody tr th {\n",
              "        vertical-align: top;\n",
              "    }\n",
              "\n",
              "    .dataframe thead th {\n",
              "        text-align: right;\n",
              "    }\n",
              "</style>\n",
              "<table border=\"1\" class=\"dataframe\">\n",
              "  <thead>\n",
              "    <tr style=\"text-align: right;\">\n",
              "      <th></th>\n",
              "      <th>Familienstand_geschieden</th>\n",
              "      <th>Familienstand_ledig</th>\n",
              "      <th>Familienstand_verheiratet</th>\n",
              "      <th>Beruf_Angestellter</th>\n",
              "      <th>Beruf_Arbeitslos</th>\n",
              "      <th>Beruf_Beamter</th>\n",
              "      <th>Beruf_Freiberufler</th>\n",
              "      <th>Beruf_Hausgehilfin</th>\n",
              "      <th>Beruf_Rentner</th>\n",
              "      <th>Beruf_Selbständig</th>\n",
              "      <th>Beruf_Servicekraft</th>\n",
              "      <th>Beruf_Student</th>\n",
              "      <th>Beruf_Techniker</th>\n",
              "      <th>Beruf_unbekannt</th>\n",
              "      <th>Ausbildung_Allgemeine Hochschulreife</th>\n",
              "      <th>Ausbildung_Hochschulabschluss</th>\n",
              "      <th>Ausbildung_Mittlere Reife</th>\n",
              "      <th>Ausbildung_unbekannt</th>\n",
              "    </tr>\n",
              "  </thead>\n",
              "  <tbody>\n",
              "    <tr>\n",
              "      <th>0</th>\n",
              "      <td>0</td>\n",
              "      <td>0</td>\n",
              "      <td>1</td>\n",
              "      <td>0</td>\n",
              "      <td>0</td>\n",
              "      <td>0</td>\n",
              "      <td>1</td>\n",
              "      <td>0</td>\n",
              "      <td>0</td>\n",
              "      <td>0</td>\n",
              "      <td>0</td>\n",
              "      <td>0</td>\n",
              "      <td>0</td>\n",
              "      <td>0</td>\n",
              "      <td>1</td>\n",
              "      <td>0</td>\n",
              "      <td>0</td>\n",
              "      <td>0</td>\n",
              "    </tr>\n",
              "    <tr>\n",
              "      <th>1</th>\n",
              "      <td>0</td>\n",
              "      <td>0</td>\n",
              "      <td>1</td>\n",
              "      <td>0</td>\n",
              "      <td>0</td>\n",
              "      <td>1</td>\n",
              "      <td>0</td>\n",
              "      <td>0</td>\n",
              "      <td>0</td>\n",
              "      <td>0</td>\n",
              "      <td>0</td>\n",
              "      <td>0</td>\n",
              "      <td>0</td>\n",
              "      <td>0</td>\n",
              "      <td>1</td>\n",
              "      <td>0</td>\n",
              "      <td>0</td>\n",
              "      <td>0</td>\n",
              "    </tr>\n",
              "    <tr>\n",
              "      <th>2</th>\n",
              "      <td>1</td>\n",
              "      <td>0</td>\n",
              "      <td>0</td>\n",
              "      <td>0</td>\n",
              "      <td>0</td>\n",
              "      <td>0</td>\n",
              "      <td>0</td>\n",
              "      <td>0</td>\n",
              "      <td>0</td>\n",
              "      <td>0</td>\n",
              "      <td>0</td>\n",
              "      <td>0</td>\n",
              "      <td>1</td>\n",
              "      <td>0</td>\n",
              "      <td>1</td>\n",
              "      <td>0</td>\n",
              "      <td>0</td>\n",
              "      <td>0</td>\n",
              "    </tr>\n",
              "    <tr>\n",
              "      <th>3</th>\n",
              "      <td>1</td>\n",
              "      <td>0</td>\n",
              "      <td>0</td>\n",
              "      <td>0</td>\n",
              "      <td>1</td>\n",
              "      <td>0</td>\n",
              "      <td>0</td>\n",
              "      <td>0</td>\n",
              "      <td>0</td>\n",
              "      <td>0</td>\n",
              "      <td>0</td>\n",
              "      <td>0</td>\n",
              "      <td>0</td>\n",
              "      <td>0</td>\n",
              "      <td>1</td>\n",
              "      <td>0</td>\n",
              "      <td>0</td>\n",
              "      <td>0</td>\n",
              "    </tr>\n",
              "    <tr>\n",
              "      <th>4</th>\n",
              "      <td>0</td>\n",
              "      <td>1</td>\n",
              "      <td>0</td>\n",
              "      <td>0</td>\n",
              "      <td>0</td>\n",
              "      <td>0</td>\n",
              "      <td>0</td>\n",
              "      <td>0</td>\n",
              "      <td>0</td>\n",
              "      <td>0</td>\n",
              "      <td>0</td>\n",
              "      <td>0</td>\n",
              "      <td>1</td>\n",
              "      <td>0</td>\n",
              "      <td>1</td>\n",
              "      <td>0</td>\n",
              "      <td>0</td>\n",
              "      <td>0</td>\n",
              "    </tr>\n",
              "    <tr>\n",
              "      <th>5</th>\n",
              "      <td>0</td>\n",
              "      <td>1</td>\n",
              "      <td>0</td>\n",
              "      <td>0</td>\n",
              "      <td>0</td>\n",
              "      <td>0</td>\n",
              "      <td>0</td>\n",
              "      <td>0</td>\n",
              "      <td>0</td>\n",
              "      <td>0</td>\n",
              "      <td>0</td>\n",
              "      <td>0</td>\n",
              "      <td>1</td>\n",
              "      <td>0</td>\n",
              "      <td>1</td>\n",
              "      <td>0</td>\n",
              "      <td>0</td>\n",
              "      <td>0</td>\n",
              "    </tr>\n",
              "    <tr>\n",
              "      <th>6</th>\n",
              "      <td>0</td>\n",
              "      <td>1</td>\n",
              "      <td>0</td>\n",
              "      <td>0</td>\n",
              "      <td>0</td>\n",
              "      <td>0</td>\n",
              "      <td>0</td>\n",
              "      <td>0</td>\n",
              "      <td>0</td>\n",
              "      <td>0</td>\n",
              "      <td>0</td>\n",
              "      <td>0</td>\n",
              "      <td>0</td>\n",
              "      <td>1</td>\n",
              "      <td>0</td>\n",
              "      <td>1</td>\n",
              "      <td>0</td>\n",
              "      <td>0</td>\n",
              "    </tr>\n",
              "    <tr>\n",
              "      <th>7</th>\n",
              "      <td>0</td>\n",
              "      <td>1</td>\n",
              "      <td>0</td>\n",
              "      <td>0</td>\n",
              "      <td>0</td>\n",
              "      <td>0</td>\n",
              "      <td>0</td>\n",
              "      <td>0</td>\n",
              "      <td>0</td>\n",
              "      <td>0</td>\n",
              "      <td>1</td>\n",
              "      <td>0</td>\n",
              "      <td>0</td>\n",
              "      <td>0</td>\n",
              "      <td>0</td>\n",
              "      <td>1</td>\n",
              "      <td>0</td>\n",
              "      <td>0</td>\n",
              "    </tr>\n",
              "    <tr>\n",
              "      <th>8</th>\n",
              "      <td>0</td>\n",
              "      <td>1</td>\n",
              "      <td>0</td>\n",
              "      <td>0</td>\n",
              "      <td>0</td>\n",
              "      <td>0</td>\n",
              "      <td>0</td>\n",
              "      <td>0</td>\n",
              "      <td>0</td>\n",
              "      <td>0</td>\n",
              "      <td>0</td>\n",
              "      <td>1</td>\n",
              "      <td>0</td>\n",
              "      <td>0</td>\n",
              "      <td>1</td>\n",
              "      <td>0</td>\n",
              "      <td>0</td>\n",
              "      <td>0</td>\n",
              "    </tr>\n",
              "    <tr>\n",
              "      <th>9</th>\n",
              "      <td>0</td>\n",
              "      <td>1</td>\n",
              "      <td>0</td>\n",
              "      <td>0</td>\n",
              "      <td>1</td>\n",
              "      <td>0</td>\n",
              "      <td>0</td>\n",
              "      <td>0</td>\n",
              "      <td>0</td>\n",
              "      <td>0</td>\n",
              "      <td>0</td>\n",
              "      <td>0</td>\n",
              "      <td>0</td>\n",
              "      <td>0</td>\n",
              "      <td>0</td>\n",
              "      <td>0</td>\n",
              "      <td>1</td>\n",
              "      <td>0</td>\n",
              "    </tr>\n",
              "    <tr>\n",
              "      <th>10</th>\n",
              "      <td>1</td>\n",
              "      <td>0</td>\n",
              "      <td>0</td>\n",
              "      <td>1</td>\n",
              "      <td>0</td>\n",
              "      <td>0</td>\n",
              "      <td>0</td>\n",
              "      <td>0</td>\n",
              "      <td>0</td>\n",
              "      <td>0</td>\n",
              "      <td>0</td>\n",
              "      <td>0</td>\n",
              "      <td>0</td>\n",
              "      <td>0</td>\n",
              "      <td>0</td>\n",
              "      <td>0</td>\n",
              "      <td>0</td>\n",
              "      <td>1</td>\n",
              "    </tr>\n",
              "    <tr>\n",
              "      <th>11</th>\n",
              "      <td>0</td>\n",
              "      <td>0</td>\n",
              "      <td>1</td>\n",
              "      <td>0</td>\n",
              "      <td>1</td>\n",
              "      <td>0</td>\n",
              "      <td>0</td>\n",
              "      <td>0</td>\n",
              "      <td>0</td>\n",
              "      <td>0</td>\n",
              "      <td>0</td>\n",
              "      <td>0</td>\n",
              "      <td>0</td>\n",
              "      <td>0</td>\n",
              "      <td>1</td>\n",
              "      <td>0</td>\n",
              "      <td>0</td>\n",
              "      <td>0</td>\n",
              "    </tr>\n",
              "    <tr>\n",
              "      <th>12</th>\n",
              "      <td>0</td>\n",
              "      <td>1</td>\n",
              "      <td>0</td>\n",
              "      <td>0</td>\n",
              "      <td>0</td>\n",
              "      <td>1</td>\n",
              "      <td>0</td>\n",
              "      <td>0</td>\n",
              "      <td>0</td>\n",
              "      <td>0</td>\n",
              "      <td>0</td>\n",
              "      <td>0</td>\n",
              "      <td>0</td>\n",
              "      <td>0</td>\n",
              "      <td>1</td>\n",
              "      <td>0</td>\n",
              "      <td>0</td>\n",
              "      <td>0</td>\n",
              "    </tr>\n",
              "    <tr>\n",
              "      <th>13</th>\n",
              "      <td>0</td>\n",
              "      <td>1</td>\n",
              "      <td>0</td>\n",
              "      <td>0</td>\n",
              "      <td>0</td>\n",
              "      <td>0</td>\n",
              "      <td>0</td>\n",
              "      <td>0</td>\n",
              "      <td>0</td>\n",
              "      <td>0</td>\n",
              "      <td>1</td>\n",
              "      <td>0</td>\n",
              "      <td>0</td>\n",
              "      <td>0</td>\n",
              "      <td>0</td>\n",
              "      <td>0</td>\n",
              "      <td>0</td>\n",
              "      <td>1</td>\n",
              "    </tr>\n",
              "    <tr>\n",
              "      <th>14</th>\n",
              "      <td>0</td>\n",
              "      <td>1</td>\n",
              "      <td>0</td>\n",
              "      <td>0</td>\n",
              "      <td>0</td>\n",
              "      <td>0</td>\n",
              "      <td>0</td>\n",
              "      <td>0</td>\n",
              "      <td>0</td>\n",
              "      <td>0</td>\n",
              "      <td>0</td>\n",
              "      <td>0</td>\n",
              "      <td>0</td>\n",
              "      <td>1</td>\n",
              "      <td>0</td>\n",
              "      <td>1</td>\n",
              "      <td>0</td>\n",
              "      <td>0</td>\n",
              "    </tr>\n",
              "  </tbody>\n",
              "</table>\n",
              "</div>"
            ],
            "text/plain": [
              "    Familienstand_geschieden  Familienstand_ledig  Familienstand_verheiratet  \\\n",
              "0                          0                    0                          1   \n",
              "1                          0                    0                          1   \n",
              "2                          1                    0                          0   \n",
              "3                          1                    0                          0   \n",
              "4                          0                    1                          0   \n",
              "5                          0                    1                          0   \n",
              "6                          0                    1                          0   \n",
              "7                          0                    1                          0   \n",
              "8                          0                    1                          0   \n",
              "9                          0                    1                          0   \n",
              "10                         1                    0                          0   \n",
              "11                         0                    0                          1   \n",
              "12                         0                    1                          0   \n",
              "13                         0                    1                          0   \n",
              "14                         0                    1                          0   \n",
              "\n",
              "    Beruf_Angestellter  Beruf_Arbeitslos  Beruf_Beamter  Beruf_Freiberufler  \\\n",
              "0                    0                 0              0                   1   \n",
              "1                    0                 0              1                   0   \n",
              "2                    0                 0              0                   0   \n",
              "3                    0                 1              0                   0   \n",
              "4                    0                 0              0                   0   \n",
              "5                    0                 0              0                   0   \n",
              "6                    0                 0              0                   0   \n",
              "7                    0                 0              0                   0   \n",
              "8                    0                 0              0                   0   \n",
              "9                    0                 1              0                   0   \n",
              "10                   1                 0              0                   0   \n",
              "11                   0                 1              0                   0   \n",
              "12                   0                 0              1                   0   \n",
              "13                   0                 0              0                   0   \n",
              "14                   0                 0              0                   0   \n",
              "\n",
              "    Beruf_Hausgehilfin  Beruf_Rentner  Beruf_Selbständig  Beruf_Servicekraft  \\\n",
              "0                    0              0                  0                   0   \n",
              "1                    0              0                  0                   0   \n",
              "2                    0              0                  0                   0   \n",
              "3                    0              0                  0                   0   \n",
              "4                    0              0                  0                   0   \n",
              "5                    0              0                  0                   0   \n",
              "6                    0              0                  0                   0   \n",
              "7                    0              0                  0                   1   \n",
              "8                    0              0                  0                   0   \n",
              "9                    0              0                  0                   0   \n",
              "10                   0              0                  0                   0   \n",
              "11                   0              0                  0                   0   \n",
              "12                   0              0                  0                   0   \n",
              "13                   0              0                  0                   1   \n",
              "14                   0              0                  0                   0   \n",
              "\n",
              "    Beruf_Student  Beruf_Techniker  Beruf_unbekannt  \\\n",
              "0               0                0                0   \n",
              "1               0                0                0   \n",
              "2               0                1                0   \n",
              "3               0                0                0   \n",
              "4               0                1                0   \n",
              "5               0                1                0   \n",
              "6               0                0                1   \n",
              "7               0                0                0   \n",
              "8               1                0                0   \n",
              "9               0                0                0   \n",
              "10              0                0                0   \n",
              "11              0                0                0   \n",
              "12              0                0                0   \n",
              "13              0                0                0   \n",
              "14              0                0                1   \n",
              "\n",
              "    Ausbildung_Allgemeine Hochschulreife  Ausbildung_Hochschulabschluss  \\\n",
              "0                                      1                              0   \n",
              "1                                      1                              0   \n",
              "2                                      1                              0   \n",
              "3                                      1                              0   \n",
              "4                                      1                              0   \n",
              "5                                      1                              0   \n",
              "6                                      0                              1   \n",
              "7                                      0                              1   \n",
              "8                                      1                              0   \n",
              "9                                      0                              0   \n",
              "10                                     0                              0   \n",
              "11                                     1                              0   \n",
              "12                                     1                              0   \n",
              "13                                     0                              0   \n",
              "14                                     0                              1   \n",
              "\n",
              "    Ausbildung_Mittlere Reife  Ausbildung_unbekannt  \n",
              "0                           0                     0  \n",
              "1                           0                     0  \n",
              "2                           0                     0  \n",
              "3                           0                     0  \n",
              "4                           0                     0  \n",
              "5                           0                     0  \n",
              "6                           0                     0  \n",
              "7                           0                     0  \n",
              "8                           0                     0  \n",
              "9                           1                     0  \n",
              "10                          0                     1  \n",
              "11                          0                     0  \n",
              "12                          0                     0  \n",
              "13                          0                     1  \n",
              "14                          0                     0  "
            ]
          },
          "metadata": {
            "tags": []
          },
          "execution_count": 16
        }
      ]
    },
    {
      "cell_type": "code",
      "metadata": {
        "id": "D8ooE21k200l"
      },
      "source": [
        "cols_to_scale = ['Alter','Kontostand','Dauer']\r\n",
        "\r\n",
        "from sklearn.preprocessing import MinMaxScaler\r\n",
        "scaler = MinMaxScaler()\r\n",
        "mms[cols_to_scale] = scaler.fit_transform(mms[cols_to_scale])"
      ],
      "execution_count": null,
      "outputs": []
    },
    {
      "cell_type": "code",
      "metadata": {
        "colab": {
          "base_uri": "https://localhost:8080/"
        },
        "id": "_cFCpttl-upu",
        "outputId": "a7394c67-7663-46d3-da6f-4d9d0dfc79aa"
      },
      "source": [
        "df_dummy.shape"
      ],
      "execution_count": null,
      "outputs": [
        {
          "output_type": "execute_result",
          "data": {
            "text/plain": [
              "(20493, 18)"
            ]
          },
          "metadata": {
            "tags": []
          },
          "execution_count": 18
        }
      ]
    },
    {
      "cell_type": "code",
      "metadata": {
        "colab": {
          "base_uri": "https://localhost:8080/",
          "height": 863
        },
        "id": "ky0oIxxgp2_E",
        "outputId": "493c2140-a4db-42a5-bf7e-678aba530436"
      },
      "source": [
        "daf = pd.concat([df_dummy, mms['Ausgefallen'], mms['Darlehen'], mms['Eigentum'], mms['Label'], mms['Kontostand'], mms['Dauer'], mms['Alter']], axis=1)\r\n",
        "daf.info()\r\n",
        "daf.head()"
      ],
      "execution_count": null,
      "outputs": [
        {
          "output_type": "stream",
          "text": [
            "<class 'pandas.core.frame.DataFrame'>\n",
            "RangeIndex: 20493 entries, 0 to 20492\n",
            "Data columns (total 25 columns):\n",
            " #   Column                                Non-Null Count  Dtype  \n",
            "---  ------                                --------------  -----  \n",
            " 0   Familienstand_geschieden              20493 non-null  uint8  \n",
            " 1   Familienstand_ledig                   20493 non-null  uint8  \n",
            " 2   Familienstand_verheiratet             20493 non-null  uint8  \n",
            " 3   Beruf_Angestellter                    20493 non-null  uint8  \n",
            " 4   Beruf_Arbeitslos                      20493 non-null  uint8  \n",
            " 5   Beruf_Beamter                         20493 non-null  uint8  \n",
            " 6   Beruf_Freiberufler                    20493 non-null  uint8  \n",
            " 7   Beruf_Hausgehilfin                    20493 non-null  uint8  \n",
            " 8   Beruf_Rentner                         20493 non-null  uint8  \n",
            " 9   Beruf_Selbständig                     20493 non-null  uint8  \n",
            " 10  Beruf_Servicekraft                    20493 non-null  uint8  \n",
            " 11  Beruf_Student                         20493 non-null  uint8  \n",
            " 12  Beruf_Techniker                       20493 non-null  uint8  \n",
            " 13  Beruf_unbekannt                       20493 non-null  uint8  \n",
            " 14  Ausbildung_Allgemeine Hochschulreife  20493 non-null  uint8  \n",
            " 15  Ausbildung_Hochschulabschluss         20493 non-null  uint8  \n",
            " 16  Ausbildung_Mittlere Reife             20493 non-null  uint8  \n",
            " 17  Ausbildung_unbekannt                  20493 non-null  uint8  \n",
            " 18  Ausgefallen                           20493 non-null  int64  \n",
            " 19  Darlehen                              20493 non-null  int64  \n",
            " 20  Eigentum                              20493 non-null  int64  \n",
            " 21  Label                                 20493 non-null  int64  \n",
            " 22  Kontostand                            20493 non-null  float64\n",
            " 23  Dauer                                 20493 non-null  float64\n",
            " 24  Alter                                 20493 non-null  float64\n",
            "dtypes: float64(3), int64(4), uint8(18)\n",
            "memory usage: 1.4 MB\n"
          ],
          "name": "stdout"
        },
        {
          "output_type": "execute_result",
          "data": {
            "text/html": [
              "<div>\n",
              "<style scoped>\n",
              "    .dataframe tbody tr th:only-of-type {\n",
              "        vertical-align: middle;\n",
              "    }\n",
              "\n",
              "    .dataframe tbody tr th {\n",
              "        vertical-align: top;\n",
              "    }\n",
              "\n",
              "    .dataframe thead th {\n",
              "        text-align: right;\n",
              "    }\n",
              "</style>\n",
              "<table border=\"1\" class=\"dataframe\">\n",
              "  <thead>\n",
              "    <tr style=\"text-align: right;\">\n",
              "      <th></th>\n",
              "      <th>Familienstand_geschieden</th>\n",
              "      <th>Familienstand_ledig</th>\n",
              "      <th>Familienstand_verheiratet</th>\n",
              "      <th>Beruf_Angestellter</th>\n",
              "      <th>Beruf_Arbeitslos</th>\n",
              "      <th>Beruf_Beamter</th>\n",
              "      <th>Beruf_Freiberufler</th>\n",
              "      <th>Beruf_Hausgehilfin</th>\n",
              "      <th>Beruf_Rentner</th>\n",
              "      <th>Beruf_Selbständig</th>\n",
              "      <th>Beruf_Servicekraft</th>\n",
              "      <th>Beruf_Student</th>\n",
              "      <th>Beruf_Techniker</th>\n",
              "      <th>Beruf_unbekannt</th>\n",
              "      <th>Ausbildung_Allgemeine Hochschulreife</th>\n",
              "      <th>Ausbildung_Hochschulabschluss</th>\n",
              "      <th>Ausbildung_Mittlere Reife</th>\n",
              "      <th>Ausbildung_unbekannt</th>\n",
              "      <th>Ausgefallen</th>\n",
              "      <th>Darlehen</th>\n",
              "      <th>Eigentum</th>\n",
              "      <th>Label</th>\n",
              "      <th>Kontostand</th>\n",
              "      <th>Dauer</th>\n",
              "      <th>Alter</th>\n",
              "    </tr>\n",
              "  </thead>\n",
              "  <tbody>\n",
              "    <tr>\n",
              "      <th>0</th>\n",
              "      <td>0</td>\n",
              "      <td>0</td>\n",
              "      <td>1</td>\n",
              "      <td>0</td>\n",
              "      <td>0</td>\n",
              "      <td>0</td>\n",
              "      <td>1</td>\n",
              "      <td>0</td>\n",
              "      <td>0</td>\n",
              "      <td>0</td>\n",
              "      <td>0</td>\n",
              "      <td>0</td>\n",
              "      <td>0</td>\n",
              "      <td>0</td>\n",
              "      <td>1</td>\n",
              "      <td>0</td>\n",
              "      <td>0</td>\n",
              "      <td>0</td>\n",
              "      <td>0</td>\n",
              "      <td>1</td>\n",
              "      <td>1</td>\n",
              "      <td>1</td>\n",
              "      <td>0.175485</td>\n",
              "      <td>0.000000</td>\n",
              "      <td>0.254902</td>\n",
              "    </tr>\n",
              "    <tr>\n",
              "      <th>1</th>\n",
              "      <td>0</td>\n",
              "      <td>0</td>\n",
              "      <td>1</td>\n",
              "      <td>0</td>\n",
              "      <td>0</td>\n",
              "      <td>1</td>\n",
              "      <td>0</td>\n",
              "      <td>0</td>\n",
              "      <td>0</td>\n",
              "      <td>0</td>\n",
              "      <td>0</td>\n",
              "      <td>0</td>\n",
              "      <td>0</td>\n",
              "      <td>0</td>\n",
              "      <td>1</td>\n",
              "      <td>0</td>\n",
              "      <td>0</td>\n",
              "      <td>0</td>\n",
              "      <td>0</td>\n",
              "      <td>0</td>\n",
              "      <td>0</td>\n",
              "      <td>0</td>\n",
              "      <td>0.235089</td>\n",
              "      <td>0.000407</td>\n",
              "      <td>0.196078</td>\n",
              "    </tr>\n",
              "    <tr>\n",
              "      <th>2</th>\n",
              "      <td>1</td>\n",
              "      <td>0</td>\n",
              "      <td>0</td>\n",
              "      <td>0</td>\n",
              "      <td>0</td>\n",
              "      <td>0</td>\n",
              "      <td>0</td>\n",
              "      <td>0</td>\n",
              "      <td>0</td>\n",
              "      <td>0</td>\n",
              "      <td>0</td>\n",
              "      <td>0</td>\n",
              "      <td>1</td>\n",
              "      <td>0</td>\n",
              "      <td>1</td>\n",
              "      <td>0</td>\n",
              "      <td>0</td>\n",
              "      <td>0</td>\n",
              "      <td>0</td>\n",
              "      <td>1</td>\n",
              "      <td>1</td>\n",
              "      <td>1</td>\n",
              "      <td>0.894185</td>\n",
              "      <td>0.000407</td>\n",
              "      <td>0.411765</td>\n",
              "    </tr>\n",
              "    <tr>\n",
              "      <th>3</th>\n",
              "      <td>1</td>\n",
              "      <td>0</td>\n",
              "      <td>0</td>\n",
              "      <td>0</td>\n",
              "      <td>1</td>\n",
              "      <td>0</td>\n",
              "      <td>0</td>\n",
              "      <td>0</td>\n",
              "      <td>0</td>\n",
              "      <td>0</td>\n",
              "      <td>0</td>\n",
              "      <td>0</td>\n",
              "      <td>0</td>\n",
              "      <td>0</td>\n",
              "      <td>1</td>\n",
              "      <td>0</td>\n",
              "      <td>0</td>\n",
              "      <td>0</td>\n",
              "      <td>0</td>\n",
              "      <td>0</td>\n",
              "      <td>0</td>\n",
              "      <td>0</td>\n",
              "      <td>0.207221</td>\n",
              "      <td>0.000814</td>\n",
              "      <td>0.705882</td>\n",
              "    </tr>\n",
              "    <tr>\n",
              "      <th>4</th>\n",
              "      <td>0</td>\n",
              "      <td>1</td>\n",
              "      <td>0</td>\n",
              "      <td>0</td>\n",
              "      <td>0</td>\n",
              "      <td>0</td>\n",
              "      <td>0</td>\n",
              "      <td>0</td>\n",
              "      <td>0</td>\n",
              "      <td>0</td>\n",
              "      <td>0</td>\n",
              "      <td>0</td>\n",
              "      <td>1</td>\n",
              "      <td>0</td>\n",
              "      <td>1</td>\n",
              "      <td>0</td>\n",
              "      <td>0</td>\n",
              "      <td>0</td>\n",
              "      <td>0</td>\n",
              "      <td>0</td>\n",
              "      <td>1</td>\n",
              "      <td>0</td>\n",
              "      <td>0.162258</td>\n",
              "      <td>0.001629</td>\n",
              "      <td>0.117647</td>\n",
              "    </tr>\n",
              "  </tbody>\n",
              "</table>\n",
              "</div>"
            ],
            "text/plain": [
              "   Familienstand_geschieden  Familienstand_ledig  Familienstand_verheiratet  \\\n",
              "0                         0                    0                          1   \n",
              "1                         0                    0                          1   \n",
              "2                         1                    0                          0   \n",
              "3                         1                    0                          0   \n",
              "4                         0                    1                          0   \n",
              "\n",
              "   Beruf_Angestellter  Beruf_Arbeitslos  Beruf_Beamter  Beruf_Freiberufler  \\\n",
              "0                   0                 0              0                   1   \n",
              "1                   0                 0              1                   0   \n",
              "2                   0                 0              0                   0   \n",
              "3                   0                 1              0                   0   \n",
              "4                   0                 0              0                   0   \n",
              "\n",
              "   Beruf_Hausgehilfin  Beruf_Rentner  Beruf_Selbständig  Beruf_Servicekraft  \\\n",
              "0                   0              0                  0                   0   \n",
              "1                   0              0                  0                   0   \n",
              "2                   0              0                  0                   0   \n",
              "3                   0              0                  0                   0   \n",
              "4                   0              0                  0                   0   \n",
              "\n",
              "   Beruf_Student  Beruf_Techniker  Beruf_unbekannt  \\\n",
              "0              0                0                0   \n",
              "1              0                0                0   \n",
              "2              0                1                0   \n",
              "3              0                0                0   \n",
              "4              0                1                0   \n",
              "\n",
              "   Ausbildung_Allgemeine Hochschulreife  Ausbildung_Hochschulabschluss  \\\n",
              "0                                     1                              0   \n",
              "1                                     1                              0   \n",
              "2                                     1                              0   \n",
              "3                                     1                              0   \n",
              "4                                     1                              0   \n",
              "\n",
              "   Ausbildung_Mittlere Reife  Ausbildung_unbekannt  Ausgefallen  Darlehen  \\\n",
              "0                          0                     0            0         1   \n",
              "1                          0                     0            0         0   \n",
              "2                          0                     0            0         1   \n",
              "3                          0                     0            0         0   \n",
              "4                          0                     0            0         0   \n",
              "\n",
              "   Eigentum  Label  Kontostand     Dauer     Alter  \n",
              "0         1      1    0.175485  0.000000  0.254902  \n",
              "1         0      0    0.235089  0.000407  0.196078  \n",
              "2         1      1    0.894185  0.000407  0.411765  \n",
              "3         0      0    0.207221  0.000814  0.705882  \n",
              "4         1      0    0.162258  0.001629  0.117647  "
            ]
          },
          "metadata": {
            "tags": []
          },
          "execution_count": 19
        }
      ]
    },
    {
      "cell_type": "code",
      "metadata": {
        "colab": {
          "base_uri": "https://localhost:8080/"
        },
        "id": "wqRNtvuW15M9",
        "outputId": "33c1a059-b44a-471b-811d-03d4fd5fd330"
      },
      "source": [
        "daf.shape"
      ],
      "execution_count": null,
      "outputs": [
        {
          "output_type": "execute_result",
          "data": {
            "text/plain": [
              "(20493, 25)"
            ]
          },
          "metadata": {
            "tags": []
          },
          "execution_count": 20
        }
      ]
    },
    {
      "cell_type": "code",
      "metadata": {
        "id": "XPZnssxlnXhr",
        "colab": {
          "base_uri": "https://localhost:8080/"
        },
        "outputId": "0f31003a-794b-4d19-93ef-698b521728bf"
      },
      "source": [
        "for col in daf:\n",
        "    print(f'{col}: {daf[col].unique()}')"
      ],
      "execution_count": null,
      "outputs": [
        {
          "output_type": "stream",
          "text": [
            "Familienstand_geschieden: [0 1]\n",
            "Familienstand_ledig: [0 1]\n",
            "Familienstand_verheiratet: [1 0]\n",
            "Beruf_Angestellter: [0 1]\n",
            "Beruf_Arbeitslos: [0 1]\n",
            "Beruf_Beamter: [0 1]\n",
            "Beruf_Freiberufler: [1 0]\n",
            "Beruf_Hausgehilfin: [0 1]\n",
            "Beruf_Rentner: [0 1]\n",
            "Beruf_Selbständig: [0 1]\n",
            "Beruf_Servicekraft: [0 1]\n",
            "Beruf_Student: [0 1]\n",
            "Beruf_Techniker: [0 1]\n",
            "Beruf_unbekannt: [0 1]\n",
            "Ausbildung_Allgemeine Hochschulreife: [1 0]\n",
            "Ausbildung_Hochschulabschluss: [0 1]\n",
            "Ausbildung_Mittlere Reife: [0 1]\n",
            "Ausbildung_unbekannt: [0 1]\n",
            "Ausgefallen: [0 1]\n",
            "Darlehen: [1 0]\n",
            "Eigentum: [1 0]\n",
            "Label: [1 0]\n",
            "Kontostand: [0.17548457 0.23508859 0.89418518 ... 0.29207221 0.45366442 0.40179686]\n",
            "Dauer: [0.00000000e+00 4.07166124e-04 8.14332248e-04 ... 9.85342020e-01\n",
            " 9.98778502e-01 1.00000000e+00]\n",
            "Alter: [0.25490196 0.19607843 0.41176471 0.70588235 0.11764706 0.17647059\n",
            " 0.43137255 0.23529412 0.09803922 0.33333333 0.50980392 0.07843137\n",
            " 0.05882353 0.52941176 0.31372549 0.45098039 0.35294118 0.78431373\n",
            " 0.39215686 0.74509804 0.1372549  0.29411765 0.60784314 0.49019608\n",
            " 0.54901961 0.15686275 0.37254902 0.21568627 0.47058824 0.68627451\n",
            " 0.62745098 0.58823529 0.66666667 0.2745098  0.56862745 0.7254902\n",
            " 0.64705882 0.76470588 0.82352941 0.80392157 1.         0.03921569\n",
            " 0.8627451  0.84313725 0.92156863 0.88235294 0.94117647 0.90196078\n",
            " 0.01960784 0.96078431 0.98039216 0.        ]\n"
          ],
          "name": "stdout"
        }
      ]
    },
    {
      "cell_type": "markdown",
      "metadata": {
        "id": "PBxBM0YG0Bmd"
      },
      "source": [
        "* Aufteilen * des Datensatzes in Trainings- und Testdatensätze\r\n",
        "In der Spalte \"Etikett\" haben wir das Ergebnis über den Kunden, ob er die Karte kauft oder nicht\r\n",
        "Wir speichern es als Ausgabedaten in Y.\r\n",
        "und wir speichern den Rest der Daten über den Kunden, die wir als Eingabedaten in X verwenden werden"
      ]
    },
    {
      "cell_type": "code",
      "metadata": {
        "id": "-rDWfMNvsvKX"
      },
      "source": [
        "from sklearn.model_selection import train_test_split\r\n",
        "\r\n",
        "predict = [x for x in daf.columns if x not in ['Label']]\r\n",
        "#input \r\n",
        "X = daf[predict]\r\n",
        "#output \r\n",
        "Y = daf.Label\r\n",
        "\r\n",
        "\r\n",
        "X_train, X_test, Y_train, Y_test = train_test_split(X, Y, test_size = 0.3, shuffle = True, stratify = Y, random_state = 4711)"
      ],
      "execution_count": null,
      "outputs": []
    },
    {
      "cell_type": "code",
      "metadata": {
        "id": "vP3FdhwxoVCo",
        "colab": {
          "base_uri": "https://localhost:8080/"
        },
        "outputId": "eb7f393b-f82b-4c75-9d9c-483f537f856c"
      },
      "source": [
        "X_train.shape"
      ],
      "execution_count": null,
      "outputs": [
        {
          "output_type": "execute_result",
          "data": {
            "text/plain": [
              "(14345, 24)"
            ]
          },
          "metadata": {
            "tags": []
          },
          "execution_count": 23
        }
      ]
    },
    {
      "cell_type": "code",
      "metadata": {
        "id": "9doNk9iaoZF-",
        "colab": {
          "base_uri": "https://localhost:8080/"
        },
        "outputId": "9e32447a-95be-409e-8c5d-c5d4a16fb4fd"
      },
      "source": [
        "X_test.shape"
      ],
      "execution_count": null,
      "outputs": [
        {
          "output_type": "execute_result",
          "data": {
            "text/plain": [
              "(6148, 24)"
            ]
          },
          "metadata": {
            "tags": []
          },
          "execution_count": 24
        }
      ]
    },
    {
      "cell_type": "code",
      "metadata": {
        "colab": {
          "base_uri": "https://localhost:8080/"
        },
        "id": "tmK1ALxjtbfB",
        "outputId": "2fc2e0e9-d1c2-4e87-c164-feaa22db9972"
      },
      "source": [
        "Y_train.shape"
      ],
      "execution_count": null,
      "outputs": [
        {
          "output_type": "execute_result",
          "data": {
            "text/plain": [
              "(14345,)"
            ]
          },
          "metadata": {
            "tags": []
          },
          "execution_count": 25
        }
      ]
    },
    {
      "cell_type": "code",
      "metadata": {
        "id": "fKPYNrP0onYP",
        "colab": {
          "base_uri": "https://localhost:8080/"
        },
        "outputId": "04baf50f-9873-458f-d707-92f64eac65d7"
      },
      "source": [
        "Y_test.shape"
      ],
      "execution_count": null,
      "outputs": [
        {
          "output_type": "execute_result",
          "data": {
            "text/plain": [
              "(6148,)"
            ]
          },
          "metadata": {
            "tags": []
          },
          "execution_count": 26
        }
      ]
    },
    {
      "cell_type": "code",
      "metadata": {
        "id": "Dsw6HOERozsH",
        "colab": {
          "base_uri": "https://localhost:8080/",
          "height": 369
        },
        "outputId": "1695b608-458e-4491-fafd-ef3c7dfee69a"
      },
      "source": [
        "X_train[:9]\n"
      ],
      "execution_count": null,
      "outputs": [
        {
          "output_type": "execute_result",
          "data": {
            "text/html": [
              "<div>\n",
              "<style scoped>\n",
              "    .dataframe tbody tr th:only-of-type {\n",
              "        vertical-align: middle;\n",
              "    }\n",
              "\n",
              "    .dataframe tbody tr th {\n",
              "        vertical-align: top;\n",
              "    }\n",
              "\n",
              "    .dataframe thead th {\n",
              "        text-align: right;\n",
              "    }\n",
              "</style>\n",
              "<table border=\"1\" class=\"dataframe\">\n",
              "  <thead>\n",
              "    <tr style=\"text-align: right;\">\n",
              "      <th></th>\n",
              "      <th>Familienstand_geschieden</th>\n",
              "      <th>Familienstand_ledig</th>\n",
              "      <th>Familienstand_verheiratet</th>\n",
              "      <th>Beruf_Angestellter</th>\n",
              "      <th>Beruf_Arbeitslos</th>\n",
              "      <th>Beruf_Beamter</th>\n",
              "      <th>Beruf_Freiberufler</th>\n",
              "      <th>Beruf_Hausgehilfin</th>\n",
              "      <th>Beruf_Rentner</th>\n",
              "      <th>Beruf_Selbständig</th>\n",
              "      <th>Beruf_Servicekraft</th>\n",
              "      <th>Beruf_Student</th>\n",
              "      <th>Beruf_Techniker</th>\n",
              "      <th>Beruf_unbekannt</th>\n",
              "      <th>Ausbildung_Allgemeine Hochschulreife</th>\n",
              "      <th>Ausbildung_Hochschulabschluss</th>\n",
              "      <th>Ausbildung_Mittlere Reife</th>\n",
              "      <th>Ausbildung_unbekannt</th>\n",
              "      <th>Ausgefallen</th>\n",
              "      <th>Darlehen</th>\n",
              "      <th>Eigentum</th>\n",
              "      <th>Kontostand</th>\n",
              "      <th>Dauer</th>\n",
              "      <th>Alter</th>\n",
              "    </tr>\n",
              "  </thead>\n",
              "  <tbody>\n",
              "    <tr>\n",
              "      <th>5370</th>\n",
              "      <td>0</td>\n",
              "      <td>0</td>\n",
              "      <td>1</td>\n",
              "      <td>0</td>\n",
              "      <td>0</td>\n",
              "      <td>0</td>\n",
              "      <td>0</td>\n",
              "      <td>0</td>\n",
              "      <td>0</td>\n",
              "      <td>0</td>\n",
              "      <td>0</td>\n",
              "      <td>0</td>\n",
              "      <td>0</td>\n",
              "      <td>1</td>\n",
              "      <td>0</td>\n",
              "      <td>1</td>\n",
              "      <td>0</td>\n",
              "      <td>0</td>\n",
              "      <td>0</td>\n",
              "      <td>1</td>\n",
              "      <td>1</td>\n",
              "      <td>0.139963</td>\n",
              "      <td>0.047638</td>\n",
              "      <td>0.254902</td>\n",
              "    </tr>\n",
              "    <tr>\n",
              "      <th>19817</th>\n",
              "      <td>0</td>\n",
              "      <td>0</td>\n",
              "      <td>1</td>\n",
              "      <td>0</td>\n",
              "      <td>0</td>\n",
              "      <td>0</td>\n",
              "      <td>0</td>\n",
              "      <td>0</td>\n",
              "      <td>0</td>\n",
              "      <td>0</td>\n",
              "      <td>0</td>\n",
              "      <td>0</td>\n",
              "      <td>1</td>\n",
              "      <td>0</td>\n",
              "      <td>1</td>\n",
              "      <td>0</td>\n",
              "      <td>0</td>\n",
              "      <td>0</td>\n",
              "      <td>0</td>\n",
              "      <td>0</td>\n",
              "      <td>0</td>\n",
              "      <td>0.192039</td>\n",
              "      <td>0.425081</td>\n",
              "      <td>0.274510</td>\n",
              "    </tr>\n",
              "    <tr>\n",
              "      <th>17140</th>\n",
              "      <td>0</td>\n",
              "      <td>1</td>\n",
              "      <td>0</td>\n",
              "      <td>0</td>\n",
              "      <td>0</td>\n",
              "      <td>0</td>\n",
              "      <td>0</td>\n",
              "      <td>0</td>\n",
              "      <td>0</td>\n",
              "      <td>0</td>\n",
              "      <td>0</td>\n",
              "      <td>1</td>\n",
              "      <td>0</td>\n",
              "      <td>0</td>\n",
              "      <td>1</td>\n",
              "      <td>0</td>\n",
              "      <td>0</td>\n",
              "      <td>0</td>\n",
              "      <td>0</td>\n",
              "      <td>0</td>\n",
              "      <td>0</td>\n",
              "      <td>0.209508</td>\n",
              "      <td>0.204805</td>\n",
              "      <td>0.176471</td>\n",
              "    </tr>\n",
              "    <tr>\n",
              "      <th>1521</th>\n",
              "      <td>0</td>\n",
              "      <td>0</td>\n",
              "      <td>1</td>\n",
              "      <td>0</td>\n",
              "      <td>0</td>\n",
              "      <td>0</td>\n",
              "      <td>0</td>\n",
              "      <td>0</td>\n",
              "      <td>0</td>\n",
              "      <td>0</td>\n",
              "      <td>0</td>\n",
              "      <td>0</td>\n",
              "      <td>1</td>\n",
              "      <td>0</td>\n",
              "      <td>0</td>\n",
              "      <td>0</td>\n",
              "      <td>0</td>\n",
              "      <td>1</td>\n",
              "      <td>0</td>\n",
              "      <td>0</td>\n",
              "      <td>1</td>\n",
              "      <td>0.281424</td>\n",
              "      <td>0.019544</td>\n",
              "      <td>0.666667</td>\n",
              "    </tr>\n",
              "    <tr>\n",
              "      <th>19973</th>\n",
              "      <td>0</td>\n",
              "      <td>0</td>\n",
              "      <td>1</td>\n",
              "      <td>0</td>\n",
              "      <td>0</td>\n",
              "      <td>0</td>\n",
              "      <td>0</td>\n",
              "      <td>0</td>\n",
              "      <td>0</td>\n",
              "      <td>0</td>\n",
              "      <td>0</td>\n",
              "      <td>0</td>\n",
              "      <td>1</td>\n",
              "      <td>0</td>\n",
              "      <td>1</td>\n",
              "      <td>0</td>\n",
              "      <td>0</td>\n",
              "      <td>0</td>\n",
              "      <td>0</td>\n",
              "      <td>0</td>\n",
              "      <td>0</td>\n",
              "      <td>0.452874</td>\n",
              "      <td>0.460098</td>\n",
              "      <td>0.686275</td>\n",
              "    </tr>\n",
              "    <tr>\n",
              "      <th>14372</th>\n",
              "      <td>0</td>\n",
              "      <td>0</td>\n",
              "      <td>1</td>\n",
              "      <td>1</td>\n",
              "      <td>0</td>\n",
              "      <td>0</td>\n",
              "      <td>0</td>\n",
              "      <td>0</td>\n",
              "      <td>0</td>\n",
              "      <td>0</td>\n",
              "      <td>0</td>\n",
              "      <td>0</td>\n",
              "      <td>0</td>\n",
              "      <td>0</td>\n",
              "      <td>1</td>\n",
              "      <td>0</td>\n",
              "      <td>0</td>\n",
              "      <td>0</td>\n",
              "      <td>0</td>\n",
              "      <td>0</td>\n",
              "      <td>1</td>\n",
              "      <td>0.190750</td>\n",
              "      <td>0.132329</td>\n",
              "      <td>0.313725</td>\n",
              "    </tr>\n",
              "    <tr>\n",
              "      <th>15988</th>\n",
              "      <td>1</td>\n",
              "      <td>0</td>\n",
              "      <td>0</td>\n",
              "      <td>0</td>\n",
              "      <td>1</td>\n",
              "      <td>0</td>\n",
              "      <td>0</td>\n",
              "      <td>0</td>\n",
              "      <td>0</td>\n",
              "      <td>0</td>\n",
              "      <td>0</td>\n",
              "      <td>0</td>\n",
              "      <td>0</td>\n",
              "      <td>0</td>\n",
              "      <td>1</td>\n",
              "      <td>0</td>\n",
              "      <td>0</td>\n",
              "      <td>0</td>\n",
              "      <td>0</td>\n",
              "      <td>0</td>\n",
              "      <td>0</td>\n",
              "      <td>0.193204</td>\n",
              "      <td>0.166531</td>\n",
              "      <td>0.901961</td>\n",
              "    </tr>\n",
              "    <tr>\n",
              "      <th>20045</th>\n",
              "      <td>0</td>\n",
              "      <td>0</td>\n",
              "      <td>1</td>\n",
              "      <td>0</td>\n",
              "      <td>1</td>\n",
              "      <td>0</td>\n",
              "      <td>0</td>\n",
              "      <td>0</td>\n",
              "      <td>0</td>\n",
              "      <td>0</td>\n",
              "      <td>0</td>\n",
              "      <td>0</td>\n",
              "      <td>0</td>\n",
              "      <td>0</td>\n",
              "      <td>1</td>\n",
              "      <td>0</td>\n",
              "      <td>0</td>\n",
              "      <td>0</td>\n",
              "      <td>0</td>\n",
              "      <td>0</td>\n",
              "      <td>0</td>\n",
              "      <td>0.222361</td>\n",
              "      <td>0.478827</td>\n",
              "      <td>0.470588</td>\n",
              "    </tr>\n",
              "    <tr>\n",
              "      <th>9681</th>\n",
              "      <td>0</td>\n",
              "      <td>1</td>\n",
              "      <td>0</td>\n",
              "      <td>1</td>\n",
              "      <td>0</td>\n",
              "      <td>0</td>\n",
              "      <td>0</td>\n",
              "      <td>0</td>\n",
              "      <td>0</td>\n",
              "      <td>0</td>\n",
              "      <td>0</td>\n",
              "      <td>0</td>\n",
              "      <td>0</td>\n",
              "      <td>0</td>\n",
              "      <td>1</td>\n",
              "      <td>0</td>\n",
              "      <td>0</td>\n",
              "      <td>0</td>\n",
              "      <td>1</td>\n",
              "      <td>1</td>\n",
              "      <td>1</td>\n",
              "      <td>0.161384</td>\n",
              "      <td>0.078583</td>\n",
              "      <td>0.333333</td>\n",
              "    </tr>\n",
              "  </tbody>\n",
              "</table>\n",
              "</div>"
            ],
            "text/plain": [
              "       Familienstand_geschieden  Familienstand_ledig  \\\n",
              "5370                          0                    0   \n",
              "19817                         0                    0   \n",
              "17140                         0                    1   \n",
              "1521                          0                    0   \n",
              "19973                         0                    0   \n",
              "14372                         0                    0   \n",
              "15988                         1                    0   \n",
              "20045                         0                    0   \n",
              "9681                          0                    1   \n",
              "\n",
              "       Familienstand_verheiratet  Beruf_Angestellter  Beruf_Arbeitslos  \\\n",
              "5370                           1                   0                 0   \n",
              "19817                          1                   0                 0   \n",
              "17140                          0                   0                 0   \n",
              "1521                           1                   0                 0   \n",
              "19973                          1                   0                 0   \n",
              "14372                          1                   1                 0   \n",
              "15988                          0                   0                 1   \n",
              "20045                          1                   0                 1   \n",
              "9681                           0                   1                 0   \n",
              "\n",
              "       Beruf_Beamter  Beruf_Freiberufler  Beruf_Hausgehilfin  Beruf_Rentner  \\\n",
              "5370               0                   0                   0              0   \n",
              "19817              0                   0                   0              0   \n",
              "17140              0                   0                   0              0   \n",
              "1521               0                   0                   0              0   \n",
              "19973              0                   0                   0              0   \n",
              "14372              0                   0                   0              0   \n",
              "15988              0                   0                   0              0   \n",
              "20045              0                   0                   0              0   \n",
              "9681               0                   0                   0              0   \n",
              "\n",
              "       Beruf_Selbständig  Beruf_Servicekraft  Beruf_Student  Beruf_Techniker  \\\n",
              "5370                   0                   0              0                0   \n",
              "19817                  0                   0              0                1   \n",
              "17140                  0                   0              1                0   \n",
              "1521                   0                   0              0                1   \n",
              "19973                  0                   0              0                1   \n",
              "14372                  0                   0              0                0   \n",
              "15988                  0                   0              0                0   \n",
              "20045                  0                   0              0                0   \n",
              "9681                   0                   0              0                0   \n",
              "\n",
              "       Beruf_unbekannt  Ausbildung_Allgemeine Hochschulreife  \\\n",
              "5370                 1                                     0   \n",
              "19817                0                                     1   \n",
              "17140                0                                     1   \n",
              "1521                 0                                     0   \n",
              "19973                0                                     1   \n",
              "14372                0                                     1   \n",
              "15988                0                                     1   \n",
              "20045                0                                     1   \n",
              "9681                 0                                     1   \n",
              "\n",
              "       Ausbildung_Hochschulabschluss  Ausbildung_Mittlere Reife  \\\n",
              "5370                               1                          0   \n",
              "19817                              0                          0   \n",
              "17140                              0                          0   \n",
              "1521                               0                          0   \n",
              "19973                              0                          0   \n",
              "14372                              0                          0   \n",
              "15988                              0                          0   \n",
              "20045                              0                          0   \n",
              "9681                               0                          0   \n",
              "\n",
              "       Ausbildung_unbekannt  Ausgefallen  Darlehen  Eigentum  Kontostand  \\\n",
              "5370                      0            0         1         1    0.139963   \n",
              "19817                     0            0         0         0    0.192039   \n",
              "17140                     0            0         0         0    0.209508   \n",
              "1521                      1            0         0         1    0.281424   \n",
              "19973                     0            0         0         0    0.452874   \n",
              "14372                     0            0         0         1    0.190750   \n",
              "15988                     0            0         0         0    0.193204   \n",
              "20045                     0            0         0         0    0.222361   \n",
              "9681                      0            1         1         1    0.161384   \n",
              "\n",
              "          Dauer     Alter  \n",
              "5370   0.047638  0.254902  \n",
              "19817  0.425081  0.274510  \n",
              "17140  0.204805  0.176471  \n",
              "1521   0.019544  0.666667  \n",
              "19973  0.460098  0.686275  \n",
              "14372  0.132329  0.313725  \n",
              "15988  0.166531  0.901961  \n",
              "20045  0.478827  0.470588  \n",
              "9681   0.078583  0.333333  "
            ]
          },
          "metadata": {
            "tags": []
          },
          "execution_count": 27
        }
      ]
    },
    {
      "cell_type": "code",
      "metadata": {
        "id": "RA5TgCeMozf5",
        "colab": {
          "base_uri": "https://localhost:8080/"
        },
        "outputId": "0627d0d1-f560-4829-e9a8-612711241386"
      },
      "source": [
        "len(X_train.columns)"
      ],
      "execution_count": null,
      "outputs": [
        {
          "output_type": "execute_result",
          "data": {
            "text/plain": [
              "24"
            ]
          },
          "metadata": {
            "tags": []
          },
          "execution_count": 28
        }
      ]
    },
    {
      "cell_type": "markdown",
      "metadata": {
        "id": "dYN0mgNpuLb1"
      },
      "source": [
        "# Datenmodellierung"
      ]
    },
    {
      "cell_type": "markdown",
      "metadata": {
        "id": "-iZV40l04rWw"
      },
      "source": [
        "## Tenserflow"
      ]
    },
    {
      "cell_type": "code",
      "metadata": {
        "colab": {
          "base_uri": "https://localhost:8080/"
        },
        "id": "r31TqxOD5CC7",
        "outputId": "e880d67c-ed51-493a-f43e-31b5f3299125"
      },
      "source": [
        "import tensorflow as tf\r\n",
        "from tensorflow import keras\r\n",
        "model = keras.Sequential([\r\n",
        "    keras.layers.Dense(32, input_shape=(24,),activation='relu'),\r\n",
        "    keras.layers.Dense(32, activation='relu'),\r\n",
        "    keras.layers.Dense(1,activation='sigmoid')\r\n",
        "])\r\n",
        "\r\n",
        "model.compile(optimizer='adam',\r\n",
        "              loss='binary_crossentropy',\r\n",
        "              metrics=['accuracy'])\r\n",
        "model.fit(X_train, Y_train, epochs=100)\r\n"
      ],
      "execution_count": null,
      "outputs": [
        {
          "output_type": "stream",
          "text": [
            "Epoch 1/100\n",
            "449/449 [==============================] - 2s 2ms/step - loss: 0.5603 - accuracy: 0.7347\n",
            "Epoch 2/100\n",
            "449/449 [==============================] - 1s 2ms/step - loss: 0.4132 - accuracy: 0.8114\n",
            "Epoch 3/100\n",
            "449/449 [==============================] - 1s 2ms/step - loss: 0.3985 - accuracy: 0.8213\n",
            "Epoch 4/100\n",
            "449/449 [==============================] - 1s 2ms/step - loss: 0.3980 - accuracy: 0.8193\n",
            "Epoch 5/100\n",
            "449/449 [==============================] - 1s 2ms/step - loss: 0.3952 - accuracy: 0.8156\n",
            "Epoch 6/100\n",
            "449/449 [==============================] - 1s 2ms/step - loss: 0.3919 - accuracy: 0.8213\n",
            "Epoch 7/100\n",
            "449/449 [==============================] - 1s 2ms/step - loss: 0.3809 - accuracy: 0.8222\n",
            "Epoch 8/100\n",
            "449/449 [==============================] - 1s 2ms/step - loss: 0.3892 - accuracy: 0.8190\n",
            "Epoch 9/100\n",
            "449/449 [==============================] - 1s 2ms/step - loss: 0.3909 - accuracy: 0.8183\n",
            "Epoch 10/100\n",
            "449/449 [==============================] - 1s 1ms/step - loss: 0.3864 - accuracy: 0.8212\n",
            "Epoch 11/100\n",
            "449/449 [==============================] - 1s 2ms/step - loss: 0.3826 - accuracy: 0.8246\n",
            "Epoch 12/100\n",
            "449/449 [==============================] - 1s 1ms/step - loss: 0.3897 - accuracy: 0.8194\n",
            "Epoch 13/100\n",
            "449/449 [==============================] - 1s 2ms/step - loss: 0.3835 - accuracy: 0.8190\n",
            "Epoch 14/100\n",
            "449/449 [==============================] - 1s 1ms/step - loss: 0.3885 - accuracy: 0.8191\n",
            "Epoch 15/100\n",
            "449/449 [==============================] - 1s 1ms/step - loss: 0.3814 - accuracy: 0.8219\n",
            "Epoch 16/100\n",
            "449/449 [==============================] - 1s 2ms/step - loss: 0.3848 - accuracy: 0.8225\n",
            "Epoch 17/100\n",
            "449/449 [==============================] - 1s 1ms/step - loss: 0.3856 - accuracy: 0.8183\n",
            "Epoch 18/100\n",
            "449/449 [==============================] - 1s 2ms/step - loss: 0.3802 - accuracy: 0.8256\n",
            "Epoch 19/100\n",
            "449/449 [==============================] - 1s 2ms/step - loss: 0.3797 - accuracy: 0.8215\n",
            "Epoch 20/100\n",
            "449/449 [==============================] - 1s 2ms/step - loss: 0.3773 - accuracy: 0.8252\n",
            "Epoch 21/100\n",
            "449/449 [==============================] - 1s 2ms/step - loss: 0.3825 - accuracy: 0.8201\n",
            "Epoch 22/100\n",
            "449/449 [==============================] - 1s 1ms/step - loss: 0.3762 - accuracy: 0.8218\n",
            "Epoch 23/100\n",
            "449/449 [==============================] - 1s 2ms/step - loss: 0.3701 - accuracy: 0.8279\n",
            "Epoch 24/100\n",
            "449/449 [==============================] - 1s 1ms/step - loss: 0.3830 - accuracy: 0.8241\n",
            "Epoch 25/100\n",
            "449/449 [==============================] - 1s 1ms/step - loss: 0.3814 - accuracy: 0.8204\n",
            "Epoch 26/100\n",
            "449/449 [==============================] - 1s 2ms/step - loss: 0.3776 - accuracy: 0.8238\n",
            "Epoch 27/100\n",
            "449/449 [==============================] - 1s 2ms/step - loss: 0.3775 - accuracy: 0.8263\n",
            "Epoch 28/100\n",
            "449/449 [==============================] - 1s 2ms/step - loss: 0.3799 - accuracy: 0.8265\n",
            "Epoch 29/100\n",
            "449/449 [==============================] - 1s 2ms/step - loss: 0.3757 - accuracy: 0.8243\n",
            "Epoch 30/100\n",
            "449/449 [==============================] - 1s 2ms/step - loss: 0.3716 - accuracy: 0.8286\n",
            "Epoch 31/100\n",
            "449/449 [==============================] - 1s 1ms/step - loss: 0.3630 - accuracy: 0.8308\n",
            "Epoch 32/100\n",
            "449/449 [==============================] - 1s 2ms/step - loss: 0.3674 - accuracy: 0.8280\n",
            "Epoch 33/100\n",
            "449/449 [==============================] - 1s 2ms/step - loss: 0.3707 - accuracy: 0.8299\n",
            "Epoch 34/100\n",
            "449/449 [==============================] - 1s 2ms/step - loss: 0.3651 - accuracy: 0.8334\n",
            "Epoch 35/100\n",
            "449/449 [==============================] - 1s 1ms/step - loss: 0.3734 - accuracy: 0.8253\n",
            "Epoch 36/100\n",
            "449/449 [==============================] - 1s 2ms/step - loss: 0.3714 - accuracy: 0.8295\n",
            "Epoch 37/100\n",
            "449/449 [==============================] - 1s 2ms/step - loss: 0.3720 - accuracy: 0.8254\n",
            "Epoch 38/100\n",
            "449/449 [==============================] - 1s 2ms/step - loss: 0.3697 - accuracy: 0.8277\n",
            "Epoch 39/100\n",
            "449/449 [==============================] - 1s 2ms/step - loss: 0.3723 - accuracy: 0.8290\n",
            "Epoch 40/100\n",
            "449/449 [==============================] - 1s 2ms/step - loss: 0.3684 - accuracy: 0.8311\n",
            "Epoch 41/100\n",
            "449/449 [==============================] - 1s 2ms/step - loss: 0.3663 - accuracy: 0.8301\n",
            "Epoch 42/100\n",
            "449/449 [==============================] - 1s 2ms/step - loss: 0.3674 - accuracy: 0.8292\n",
            "Epoch 43/100\n",
            "449/449 [==============================] - 1s 2ms/step - loss: 0.3687 - accuracy: 0.8301\n",
            "Epoch 44/100\n",
            "449/449 [==============================] - 1s 2ms/step - loss: 0.3671 - accuracy: 0.8320\n",
            "Epoch 45/100\n",
            "449/449 [==============================] - 1s 2ms/step - loss: 0.3674 - accuracy: 0.8315\n",
            "Epoch 46/100\n",
            "449/449 [==============================] - 1s 2ms/step - loss: 0.3652 - accuracy: 0.8296\n",
            "Epoch 47/100\n",
            "449/449 [==============================] - 1s 2ms/step - loss: 0.3598 - accuracy: 0.8344\n",
            "Epoch 48/100\n",
            "449/449 [==============================] - 1s 2ms/step - loss: 0.3607 - accuracy: 0.8337\n",
            "Epoch 49/100\n",
            "449/449 [==============================] - 1s 2ms/step - loss: 0.3608 - accuracy: 0.8287\n",
            "Epoch 50/100\n",
            "449/449 [==============================] - 1s 2ms/step - loss: 0.3718 - accuracy: 0.8256\n",
            "Epoch 51/100\n",
            "449/449 [==============================] - 1s 2ms/step - loss: 0.3651 - accuracy: 0.8293\n",
            "Epoch 52/100\n",
            "449/449 [==============================] - 1s 2ms/step - loss: 0.3579 - accuracy: 0.8333\n",
            "Epoch 53/100\n",
            "449/449 [==============================] - 1s 2ms/step - loss: 0.3583 - accuracy: 0.8324\n",
            "Epoch 54/100\n",
            "449/449 [==============================] - 1s 2ms/step - loss: 0.3679 - accuracy: 0.8285\n",
            "Epoch 55/100\n",
            "449/449 [==============================] - 1s 2ms/step - loss: 0.3558 - accuracy: 0.8364\n",
            "Epoch 56/100\n",
            "449/449 [==============================] - 1s 2ms/step - loss: 0.3580 - accuracy: 0.8306\n",
            "Epoch 57/100\n",
            "449/449 [==============================] - 1s 2ms/step - loss: 0.3565 - accuracy: 0.8344\n",
            "Epoch 58/100\n",
            "449/449 [==============================] - 1s 2ms/step - loss: 0.3626 - accuracy: 0.8301\n",
            "Epoch 59/100\n",
            "449/449 [==============================] - 1s 2ms/step - loss: 0.3566 - accuracy: 0.8346\n",
            "Epoch 60/100\n",
            "449/449 [==============================] - 1s 2ms/step - loss: 0.3615 - accuracy: 0.8357\n",
            "Epoch 61/100\n",
            "449/449 [==============================] - 1s 2ms/step - loss: 0.3547 - accuracy: 0.8357\n",
            "Epoch 62/100\n",
            "449/449 [==============================] - 1s 2ms/step - loss: 0.3499 - accuracy: 0.8370\n",
            "Epoch 63/100\n",
            "449/449 [==============================] - 1s 2ms/step - loss: 0.3616 - accuracy: 0.8334\n",
            "Epoch 64/100\n",
            "449/449 [==============================] - 1s 2ms/step - loss: 0.3612 - accuracy: 0.8364\n",
            "Epoch 65/100\n",
            "449/449 [==============================] - 1s 2ms/step - loss: 0.3581 - accuracy: 0.8358\n",
            "Epoch 66/100\n",
            "449/449 [==============================] - 1s 2ms/step - loss: 0.3639 - accuracy: 0.8351\n",
            "Epoch 67/100\n",
            "449/449 [==============================] - 1s 2ms/step - loss: 0.3558 - accuracy: 0.8352\n",
            "Epoch 68/100\n",
            "449/449 [==============================] - 1s 2ms/step - loss: 0.3628 - accuracy: 0.8318\n",
            "Epoch 69/100\n",
            "449/449 [==============================] - 1s 2ms/step - loss: 0.3698 - accuracy: 0.8279\n",
            "Epoch 70/100\n",
            "449/449 [==============================] - 1s 2ms/step - loss: 0.3587 - accuracy: 0.8343\n",
            "Epoch 71/100\n",
            "449/449 [==============================] - 1s 2ms/step - loss: 0.3598 - accuracy: 0.8358\n",
            "Epoch 72/100\n",
            "449/449 [==============================] - 1s 2ms/step - loss: 0.3594 - accuracy: 0.8332\n",
            "Epoch 73/100\n",
            "449/449 [==============================] - 1s 2ms/step - loss: 0.3487 - accuracy: 0.8352\n",
            "Epoch 74/100\n",
            "449/449 [==============================] - 1s 2ms/step - loss: 0.3599 - accuracy: 0.8317\n",
            "Epoch 75/100\n",
            "449/449 [==============================] - 1s 2ms/step - loss: 0.3489 - accuracy: 0.8405\n",
            "Epoch 76/100\n",
            "449/449 [==============================] - 1s 2ms/step - loss: 0.3537 - accuracy: 0.8352\n",
            "Epoch 77/100\n",
            "449/449 [==============================] - 1s 2ms/step - loss: 0.3512 - accuracy: 0.8392\n",
            "Epoch 78/100\n",
            "449/449 [==============================] - 1s 2ms/step - loss: 0.3618 - accuracy: 0.8355\n",
            "Epoch 79/100\n",
            "449/449 [==============================] - 1s 2ms/step - loss: 0.3594 - accuracy: 0.8318\n",
            "Epoch 80/100\n",
            "449/449 [==============================] - 1s 2ms/step - loss: 0.3586 - accuracy: 0.8335\n",
            "Epoch 81/100\n",
            "449/449 [==============================] - 1s 2ms/step - loss: 0.3594 - accuracy: 0.8373\n",
            "Epoch 82/100\n",
            "449/449 [==============================] - 1s 2ms/step - loss: 0.3552 - accuracy: 0.8367\n",
            "Epoch 83/100\n",
            "449/449 [==============================] - 1s 2ms/step - loss: 0.3550 - accuracy: 0.8397\n",
            "Epoch 84/100\n",
            "449/449 [==============================] - 1s 2ms/step - loss: 0.3550 - accuracy: 0.8335\n",
            "Epoch 85/100\n",
            "449/449 [==============================] - 1s 2ms/step - loss: 0.3491 - accuracy: 0.8409\n",
            "Epoch 86/100\n",
            "449/449 [==============================] - 1s 2ms/step - loss: 0.3497 - accuracy: 0.8373\n",
            "Epoch 87/100\n",
            "449/449 [==============================] - 1s 2ms/step - loss: 0.3618 - accuracy: 0.8346\n",
            "Epoch 88/100\n",
            "449/449 [==============================] - 1s 2ms/step - loss: 0.3529 - accuracy: 0.8345\n",
            "Epoch 89/100\n",
            "449/449 [==============================] - 1s 2ms/step - loss: 0.3500 - accuracy: 0.8370\n",
            "Epoch 90/100\n",
            "449/449 [==============================] - 1s 2ms/step - loss: 0.3542 - accuracy: 0.8380\n",
            "Epoch 91/100\n",
            "449/449 [==============================] - 1s 2ms/step - loss: 0.3459 - accuracy: 0.8370\n",
            "Epoch 92/100\n",
            "449/449 [==============================] - 1s 2ms/step - loss: 0.3490 - accuracy: 0.8377\n",
            "Epoch 93/100\n",
            "449/449 [==============================] - 1s 2ms/step - loss: 0.3496 - accuracy: 0.8376\n",
            "Epoch 94/100\n",
            "449/449 [==============================] - 1s 2ms/step - loss: 0.3492 - accuracy: 0.8380\n",
            "Epoch 95/100\n",
            "449/449 [==============================] - 1s 2ms/step - loss: 0.3574 - accuracy: 0.8348\n",
            "Epoch 96/100\n",
            "449/449 [==============================] - 1s 2ms/step - loss: 0.3545 - accuracy: 0.8361\n",
            "Epoch 97/100\n",
            "449/449 [==============================] - 1s 2ms/step - loss: 0.3553 - accuracy: 0.8363\n",
            "Epoch 98/100\n",
            "449/449 [==============================] - 1s 2ms/step - loss: 0.3546 - accuracy: 0.8338\n",
            "Epoch 99/100\n",
            "449/449 [==============================] - 1s 2ms/step - loss: 0.3513 - accuracy: 0.8363\n",
            "Epoch 100/100\n",
            "449/449 [==============================] - 1s 2ms/step - loss: 0.3506 - accuracy: 0.8402\n"
          ],
          "name": "stdout"
        },
        {
          "output_type": "execute_result",
          "data": {
            "text/plain": [
              "<tensorflow.python.keras.callbacks.History at 0x7f3456b7ee80>"
            ]
          },
          "metadata": {
            "tags": []
          },
          "execution_count": 29
        }
      ]
    },
    {
      "cell_type": "code",
      "metadata": {
        "colab": {
          "base_uri": "https://localhost:8080/"
        },
        "id": "4Kipkm6Z6BSX",
        "outputId": "a4dc399e-ac52-4d8f-aa9e-0bb95efa4708"
      },
      "source": [
        "model.evaluate(X_test, Y_test)"
      ],
      "execution_count": null,
      "outputs": [
        {
          "output_type": "stream",
          "text": [
            "193/193 [==============================] - 0s 985us/step - loss: 0.3851 - accuracy: 0.8159\n"
          ],
          "name": "stdout"
        },
        {
          "output_type": "execute_result",
          "data": {
            "text/plain": [
              "[0.3851113021373749, 0.8158750534057617]"
            ]
          },
          "metadata": {
            "tags": []
          },
          "execution_count": 30
        }
      ]
    },
    {
      "cell_type": "code",
      "metadata": {
        "id": "8-f2gNpu5Cal"
      },
      "source": [
        "y_pred = model.predict(X_test)"
      ],
      "execution_count": null,
      "outputs": []
    },
    {
      "cell_type": "code",
      "metadata": {
        "colab": {
          "base_uri": "https://localhost:8080/"
        },
        "id": "UHh_Q62KXvWY",
        "outputId": "be6e995f-aac0-4eea-e3ff-c4a2437af8d0"
      },
      "source": [
        "print(y_pred)"
      ],
      "execution_count": null,
      "outputs": [
        {
          "output_type": "stream",
          "text": [
            "[[0.300517  ]\n",
            " [0.65164137]\n",
            " [0.02900073]\n",
            " ...\n",
            " [0.0087412 ]\n",
            " [0.5933927 ]\n",
            " [0.5577681 ]]\n"
          ],
          "name": "stdout"
        }
      ]
    },
    {
      "cell_type": "code",
      "metadata": {
        "colab": {
          "base_uri": "https://localhost:8080/"
        },
        "id": "WNDdJR0i5C0S",
        "outputId": "15bd39c1-2904-4aa1-d554-718337c90e42"
      },
      "source": [
        "from sklearn.metrics import average_precision_score\r\n",
        "average_precision_score(Y_test, y_pred)\r\n"
      ],
      "execution_count": null,
      "outputs": [
        {
          "output_type": "execute_result",
          "data": {
            "text/plain": [
              "0.6475572953396069"
            ]
          },
          "metadata": {
            "tags": []
          },
          "execution_count": 33
        }
      ]
    },
    {
      "cell_type": "code",
      "metadata": {
        "colab": {
          "base_uri": "https://localhost:8080/",
          "height": 481
        },
        "id": "WLX3ezC6_IYh",
        "outputId": "f0fa5f68-d41b-4de7-84e4-0ce98036071d"
      },
      "source": [
        "import seaborn as sn\r\n",
        "results= X_test.copy()\r\n",
        "results['adj_prediction']= np.where(y_pred>=0.55,1,0)\r\n",
        "cm=confusion_matrix(Y_test,results['adj_prediction'])\r\n",
        "plt.figure(figsize=(7,7))\r\n",
        "sns.heatmap(cm,annot=True,fmt=\"d\",cbar=False )\r\n",
        "plt.title('confusion Matrix')\r\n",
        "plt.ylabel(\"Actual\")\r\n",
        "plt.xlabel(\"Prediction\")"
      ],
      "execution_count": null,
      "outputs": [
        {
          "output_type": "execute_result",
          "data": {
            "text/plain": [
              "Text(0.5, 42.0, 'Prediction')"
            ]
          },
          "metadata": {
            "tags": []
          },
          "execution_count": 34
        },
        {
          "output_type": "display_data",
          "data": {
            "image/png": "[encoded data removed]",
            "text/plain": [
              "<Figure size 504x504 with 1 Axes>"
            ]
          },
          "metadata": {
            "tags": []
          }
        }
      ]
    },
    {
      "cell_type": "code",
      "metadata": {
        "colab": {
          "base_uri": "https://localhost:8080/"
        },
        "id": "p2uWJQ1OJyou",
        "outputId": "86e7b670-5ac9-4b72-f6f4-4d05e2205e99"
      },
      "source": [
        "from sklearn.metrics import recall_score\r\n",
        "recall= recall_score(Y_test,results['adj_prediction'])\r\n",
        "print(recall)"
      ],
      "execution_count": null,
      "outputs": [
        {
          "output_type": "stream",
          "text": [
            "0.4993160054719562\n"
          ],
          "name": "stdout"
        }
      ]
    },
    {
      "cell_type": "code",
      "metadata": {
        "colab": {
          "base_uri": "https://localhost:8080/"
        },
        "id": "j-CwG7xr6H1s",
        "outputId": "f2728fd9-c5fa-4301-a667-ab9fedcba0cd"
      },
      "source": [
        "accuracy= accuracy_score(Y_test,results['adj_prediction'])\r\n",
        "print(accuracy)"
      ],
      "execution_count": null,
      "outputs": [
        {
          "output_type": "stream",
          "text": [
            "0.8181522446324008\n"
          ],
          "name": "stdout"
        }
      ]
    },
    {
      "cell_type": "code",
      "metadata": {
        "colab": {
          "base_uri": "https://localhost:8080/",
          "height": 410
        },
        "id": "7sEuh9Ru6MQb",
        "outputId": "4b3f3df0-8f59-433e-87b7-c6c2002e4deb"
      },
      "source": [
        "import numpy as np \r\n",
        "from sklearn.metrics import roc_curve, auc\r\n",
        "fpr, tpr, threholds = roc_curve(Y_test,y_pred)\r\n",
        "plt.subplots(figsize=(10,6))\r\n",
        "plt.plot(fpr,tpr,'o-',label=\"ROC curve\")\r\n",
        "plt.plot(np.linspace(0,1,10),np.linspace(0,1,10),label='diagonal')\r\n",
        "\r\n",
        "plt.legend(loc=\"upper left\")\r\n",
        "plt.xlabel(\"FPR\")\r\n",
        "plt.ylabel(\"TPR\")"
      ],
      "execution_count": null,
      "outputs": [
        {
          "output_type": "execute_result",
          "data": {
            "text/plain": [
              "Text(0, 0.5, 'TPR')"
            ]
          },
          "metadata": {
            "tags": []
          },
          "execution_count": 38
        },
        {
          "output_type": "display_data",
          "data": {
            "image/png": "[encoded data removed]",
            "text/plain": [
              "<Figure size 720x432 with 1 Axes>"
            ]
          },
          "metadata": {
            "tags": []
          }
        }
      ]
    },
    {
      "cell_type": "code",
      "metadata": {
        "colab": {
          "base_uri": "https://localhost:8080/"
        },
        "id": "7mKOiYmPUnws",
        "outputId": "3450182b-68f6-4a5c-96e8-2bfa92645813"
      },
      "source": [
        "tf.keras.metrics.AUC(\r\n",
        "    num_thresholds=200, curve='ROC',\r\n",
        "    summation_method='interpolation', name=None, dtype=None,\r\n",
        "    thresholds=None, multi_label=False, label_weights=None\r\n",
        ")"
      ],
      "execution_count": null,
      "outputs": [
        {
          "output_type": "execute_result",
          "data": {
            "text/plain": [
              "<tensorflow.python.keras.metrics.AUC at 0x7f3420366470>"
            ]
          },
          "metadata": {
            "tags": []
          },
          "execution_count": 39
        }
      ]
    },
    {
      "cell_type": "code",
      "metadata": {
        "colab": {
          "base_uri": "https://localhost:8080/"
        },
        "id": "uiQTU5WtUtWn",
        "outputId": "2ca13cd7-ae04-43cc-b3c7-7a264cfe9d4d"
      },
      "source": [
        "Auc= roc_auc_score(Y_test,y_pred)\r\n",
        "print(Auc)"
      ],
      "execution_count": null,
      "outputs": [
        {
          "output_type": "stream",
          "text": [
            "0.8592422169713552\n"
          ],
          "name": "stdout"
        }
      ]
    },
    {
      "cell_type": "markdown",
      "metadata": {
        "id": "CVZhrk2dxm6Y"
      },
      "source": [
        "## Random Forest Classificer"
      ]
    },
    {
      "cell_type": "code",
      "metadata": {
        "id": "hQpUwIdArur7"
      },
      "source": [
        "predict = [x for x in daf.columns if x not in ['Label']]\r\n",
        "#input \r\n",
        "X2 = daf[predict]\r\n",
        "#output \r\n",
        "Y2 = daf.Label\r\n",
        "\r\n",
        "\r\n",
        "X2_train, X2_test, Y2_train, Y2_test = train_test_split(X2, Y2, test_size = 0.3, shuffle = True, stratify = Y2, random_state = 4711)"
      ],
      "execution_count": null,
      "outputs": []
    },
    {
      "cell_type": "code",
      "metadata": {
        "id": "0X9JMlqYgSKj",
        "colab": {
          "base_uri": "https://localhost:8080/"
        },
        "outputId": "06eb6c85-2aff-4501-d4d2-3584e6dba90d"
      },
      "source": [
        "rf=RandomForestClassifier(bootstrap = True,max_depth= 81,min_samples_leaf= 1,min_samples_split= 10,n_estimators=800 )\r\n",
        "rf.fit(X2_train,Y2_train)"
      ],
      "execution_count": null,
      "outputs": [
        {
          "output_type": "execute_result",
          "data": {
            "text/plain": [
              "RandomForestClassifier(bootstrap=True, ccp_alpha=0.0, class_weight=None,\n",
              "                       criterion='gini', max_depth=81, max_features='auto',\n",
              "                       max_leaf_nodes=None, max_samples=None,\n",
              "                       min_impurity_decrease=0.0, min_impurity_split=None,\n",
              "                       min_samples_leaf=1, min_samples_split=10,\n",
              "                       min_weight_fraction_leaf=0.0, n_estimators=800,\n",
              "                       n_jobs=None, oob_score=False, random_state=None,\n",
              "                       verbose=0, warm_start=False)"
            ]
          },
          "metadata": {
            "tags": []
          },
          "execution_count": 42
        }
      ]
    },
    {
      "cell_type": "code",
      "metadata": {
        "id": "roY8TK1HHKy4",
        "colab": {
          "base_uri": "https://localhost:8080/"
        },
        "outputId": "2c7e3ae1-15a1-4006-83bc-d1bd9ab0f8d5"
      },
      "source": [
        "print('\\n Random Forest Training Score:',rf.score(X2_train,Y2_train))"
      ],
      "execution_count": null,
      "outputs": [
        {
          "output_type": "stream",
          "text": [
            "\n",
            " Random Forest Training Score: 0.9213663297316138\n"
          ],
          "name": "stdout"
        }
      ]
    },
    {
      "cell_type": "code",
      "metadata": {
        "id": "mqW5p4_-yK9p",
        "colab": {
          "base_uri": "https://localhost:8080/"
        },
        "outputId": "0b32a683-f835-440e-d6e1-f30944140438"
      },
      "source": [
        "predictions2 = rf.predict(X2_test)\r\n",
        "predicted_probs2 = rf.predict_proba(X2_test)\r\n",
        "print(predicted_probs2)\r\n"
      ],
      "execution_count": null,
      "outputs": [
        {
          "output_type": "stream",
          "text": [
            "[[0.67806852 0.32193148]\n",
            " [0.25283653 0.74716347]\n",
            " [0.95749018 0.04250982]\n",
            " ...\n",
            " [0.94004974 0.05995026]\n",
            " [0.348429   0.651571  ]\n",
            " [0.77463953 0.22536047]]\n"
          ],
          "name": "stdout"
        }
      ]
    },
    {
      "cell_type": "code",
      "metadata": {
        "id": "pQEX7IQY0aci",
        "colab": {
          "base_uri": "https://localhost:8080/",
          "height": 243
        },
        "outputId": "e7fce886-886e-41c6-fa93-3b633c0cc702"
      },
      "source": [
        "results2= X2_test.copy()\r\n",
        "results2['Label'] = Y2_test\r\n",
        "results2['prediction'] = predictions2\r\n",
        "results2['probability'] =predicted_probs2[:,1]\r\n",
        "results2.head()"
      ],
      "execution_count": null,
      "outputs": [
        {
          "output_type": "execute_result",
          "data": {
            "text/html": [
              "<div>\n",
              "<style scoped>\n",
              "    .dataframe tbody tr th:only-of-type {\n",
              "        vertical-align: middle;\n",
              "    }\n",
              "\n",
              "    .dataframe tbody tr th {\n",
              "        vertical-align: top;\n",
              "    }\n",
              "\n",
              "    .dataframe thead th {\n",
              "        text-align: right;\n",
              "    }\n",
              "</style>\n",
              "<table border=\"1\" class=\"dataframe\">\n",
              "  <thead>\n",
              "    <tr style=\"text-align: right;\">\n",
              "      <th></th>\n",
              "      <th>Familienstand_geschieden</th>\n",
              "      <th>Familienstand_ledig</th>\n",
              "      <th>Familienstand_verheiratet</th>\n",
              "      <th>Beruf_Angestellter</th>\n",
              "      <th>Beruf_Arbeitslos</th>\n",
              "      <th>Beruf_Beamter</th>\n",
              "      <th>Beruf_Freiberufler</th>\n",
              "      <th>Beruf_Hausgehilfin</th>\n",
              "      <th>Beruf_Rentner</th>\n",
              "      <th>Beruf_Selbständig</th>\n",
              "      <th>Beruf_Servicekraft</th>\n",
              "      <th>Beruf_Student</th>\n",
              "      <th>Beruf_Techniker</th>\n",
              "      <th>Beruf_unbekannt</th>\n",
              "      <th>Ausbildung_Allgemeine Hochschulreife</th>\n",
              "      <th>Ausbildung_Hochschulabschluss</th>\n",
              "      <th>Ausbildung_Mittlere Reife</th>\n",
              "      <th>Ausbildung_unbekannt</th>\n",
              "      <th>Ausgefallen</th>\n",
              "      <th>Darlehen</th>\n",
              "      <th>Eigentum</th>\n",
              "      <th>Kontostand</th>\n",
              "      <th>Dauer</th>\n",
              "      <th>Alter</th>\n",
              "      <th>Label</th>\n",
              "      <th>prediction</th>\n",
              "      <th>probability</th>\n",
              "    </tr>\n",
              "  </thead>\n",
              "  <tbody>\n",
              "    <tr>\n",
              "      <th>14343</th>\n",
              "      <td>0</td>\n",
              "      <td>1</td>\n",
              "      <td>0</td>\n",
              "      <td>0</td>\n",
              "      <td>0</td>\n",
              "      <td>0</td>\n",
              "      <td>0</td>\n",
              "      <td>0</td>\n",
              "      <td>0</td>\n",
              "      <td>0</td>\n",
              "      <td>0</td>\n",
              "      <td>0</td>\n",
              "      <td>0</td>\n",
              "      <td>1</td>\n",
              "      <td>0</td>\n",
              "      <td>1</td>\n",
              "      <td>0</td>\n",
              "      <td>0</td>\n",
              "      <td>0</td>\n",
              "      <td>0</td>\n",
              "      <td>1</td>\n",
              "      <td>0.195242</td>\n",
              "      <td>0.131922</td>\n",
              "      <td>0.196078</td>\n",
              "      <td>0</td>\n",
              "      <td>0</td>\n",
              "      <td>0.321931</td>\n",
              "    </tr>\n",
              "    <tr>\n",
              "      <th>18379</th>\n",
              "      <td>0</td>\n",
              "      <td>0</td>\n",
              "      <td>1</td>\n",
              "      <td>0</td>\n",
              "      <td>0</td>\n",
              "      <td>0</td>\n",
              "      <td>0</td>\n",
              "      <td>0</td>\n",
              "      <td>0</td>\n",
              "      <td>0</td>\n",
              "      <td>0</td>\n",
              "      <td>0</td>\n",
              "      <td>0</td>\n",
              "      <td>1</td>\n",
              "      <td>0</td>\n",
              "      <td>1</td>\n",
              "      <td>0</td>\n",
              "      <td>0</td>\n",
              "      <td>0</td>\n",
              "      <td>0</td>\n",
              "      <td>0</td>\n",
              "      <td>0.175235</td>\n",
              "      <td>0.267508</td>\n",
              "      <td>0.254902</td>\n",
              "      <td>1</td>\n",
              "      <td>1</td>\n",
              "      <td>0.747163</td>\n",
              "    </tr>\n",
              "    <tr>\n",
              "      <th>4131</th>\n",
              "      <td>0</td>\n",
              "      <td>0</td>\n",
              "      <td>1</td>\n",
              "      <td>1</td>\n",
              "      <td>0</td>\n",
              "      <td>0</td>\n",
              "      <td>0</td>\n",
              "      <td>0</td>\n",
              "      <td>0</td>\n",
              "      <td>0</td>\n",
              "      <td>0</td>\n",
              "      <td>0</td>\n",
              "      <td>0</td>\n",
              "      <td>0</td>\n",
              "      <td>0</td>\n",
              "      <td>0</td>\n",
              "      <td>1</td>\n",
              "      <td>0</td>\n",
              "      <td>0</td>\n",
              "      <td>1</td>\n",
              "      <td>0</td>\n",
              "      <td>0.168788</td>\n",
              "      <td>0.039902</td>\n",
              "      <td>0.607843</td>\n",
              "      <td>0</td>\n",
              "      <td>0</td>\n",
              "      <td>0.042510</td>\n",
              "    </tr>\n",
              "    <tr>\n",
              "      <th>19980</th>\n",
              "      <td>0</td>\n",
              "      <td>0</td>\n",
              "      <td>1</td>\n",
              "      <td>0</td>\n",
              "      <td>1</td>\n",
              "      <td>0</td>\n",
              "      <td>0</td>\n",
              "      <td>0</td>\n",
              "      <td>0</td>\n",
              "      <td>0</td>\n",
              "      <td>0</td>\n",
              "      <td>0</td>\n",
              "      <td>0</td>\n",
              "      <td>0</td>\n",
              "      <td>1</td>\n",
              "      <td>0</td>\n",
              "      <td>0</td>\n",
              "      <td>0</td>\n",
              "      <td>0</td>\n",
              "      <td>0</td>\n",
              "      <td>0</td>\n",
              "      <td>0.184427</td>\n",
              "      <td>0.461726</td>\n",
              "      <td>0.705882</td>\n",
              "      <td>1</td>\n",
              "      <td>1</td>\n",
              "      <td>0.758124</td>\n",
              "    </tr>\n",
              "    <tr>\n",
              "      <th>14251</th>\n",
              "      <td>0</td>\n",
              "      <td>0</td>\n",
              "      <td>1</td>\n",
              "      <td>0</td>\n",
              "      <td>0</td>\n",
              "      <td>0</td>\n",
              "      <td>0</td>\n",
              "      <td>0</td>\n",
              "      <td>0</td>\n",
              "      <td>0</td>\n",
              "      <td>0</td>\n",
              "      <td>0</td>\n",
              "      <td>0</td>\n",
              "      <td>1</td>\n",
              "      <td>0</td>\n",
              "      <td>1</td>\n",
              "      <td>0</td>\n",
              "      <td>0</td>\n",
              "      <td>0</td>\n",
              "      <td>0</td>\n",
              "      <td>0</td>\n",
              "      <td>0.181848</td>\n",
              "      <td>0.130700</td>\n",
              "      <td>0.431373</td>\n",
              "      <td>0</td>\n",
              "      <td>0</td>\n",
              "      <td>0.331023</td>\n",
              "    </tr>\n",
              "  </tbody>\n",
              "</table>\n",
              "</div>"
            ],
            "text/plain": [
              "       Familienstand_geschieden  Familienstand_ledig  \\\n",
              "14343                         0                    1   \n",
              "18379                         0                    0   \n",
              "4131                          0                    0   \n",
              "19980                         0                    0   \n",
              "14251                         0                    0   \n",
              "\n",
              "       Familienstand_verheiratet  Beruf_Angestellter  Beruf_Arbeitslos  \\\n",
              "14343                          0                   0                 0   \n",
              "18379                          1                   0                 0   \n",
              "4131                           1                   1                 0   \n",
              "19980                          1                   0                 1   \n",
              "14251                          1                   0                 0   \n",
              "\n",
              "       Beruf_Beamter  Beruf_Freiberufler  Beruf_Hausgehilfin  Beruf_Rentner  \\\n",
              "14343              0                   0                   0              0   \n",
              "18379              0                   0                   0              0   \n",
              "4131               0                   0                   0              0   \n",
              "19980              0                   0                   0              0   \n",
              "14251              0                   0                   0              0   \n",
              "\n",
              "       Beruf_Selbständig  Beruf_Servicekraft  Beruf_Student  Beruf_Techniker  \\\n",
              "14343                  0                   0              0                0   \n",
              "18379                  0                   0              0                0   \n",
              "4131                   0                   0              0                0   \n",
              "19980                  0                   0              0                0   \n",
              "14251                  0                   0              0                0   \n",
              "\n",
              "       Beruf_unbekannt  Ausbildung_Allgemeine Hochschulreife  \\\n",
              "14343                1                                     0   \n",
              "18379                1                                     0   \n",
              "4131                 0                                     0   \n",
              "19980                0                                     1   \n",
              "14251                1                                     0   \n",
              "\n",
              "       Ausbildung_Hochschulabschluss  Ausbildung_Mittlere Reife  \\\n",
              "14343                              1                          0   \n",
              "18379                              1                          0   \n",
              "4131                               0                          1   \n",
              "19980                              0                          0   \n",
              "14251                              1                          0   \n",
              "\n",
              "       Ausbildung_unbekannt  Ausgefallen  Darlehen  Eigentum  Kontostand  \\\n",
              "14343                     0            0         0         1    0.195242   \n",
              "18379                     0            0         0         0    0.175235   \n",
              "4131                      0            0         1         0    0.168788   \n",
              "19980                     0            0         0         0    0.184427   \n",
              "14251                     0            0         0         0    0.181848   \n",
              "\n",
              "          Dauer     Alter  Label  prediction  probability  \n",
              "14343  0.131922  0.196078      0           0     0.321931  \n",
              "18379  0.267508  0.254902      1           1     0.747163  \n",
              "4131   0.039902  0.607843      0           0     0.042510  \n",
              "19980  0.461726  0.705882      1           1     0.758124  \n",
              "14251  0.130700  0.431373      0           0     0.331023  "
            ]
          },
          "metadata": {
            "tags": []
          },
          "execution_count": 45
        }
      ]
    },
    {
      "cell_type": "code",
      "metadata": {
        "id": "s_RA9JAu1s93",
        "colab": {
          "base_uri": "https://localhost:8080/",
          "height": 243
        },
        "outputId": "e989ccdd-131e-4435-dbc9-654c78b40147"
      },
      "source": [
        "results2[(Y2_test==1)&(predictions2==0)]\r\n",
        "results2.head()"
      ],
      "execution_count": null,
      "outputs": [
        {
          "output_type": "execute_result",
          "data": {
            "text/html": [
              "<div>\n",
              "<style scoped>\n",
              "    .dataframe tbody tr th:only-of-type {\n",
              "        vertical-align: middle;\n",
              "    }\n",
              "\n",
              "    .dataframe tbody tr th {\n",
              "        vertical-align: top;\n",
              "    }\n",
              "\n",
              "    .dataframe thead th {\n",
              "        text-align: right;\n",
              "    }\n",
              "</style>\n",
              "<table border=\"1\" class=\"dataframe\">\n",
              "  <thead>\n",
              "    <tr style=\"text-align: right;\">\n",
              "      <th></th>\n",
              "      <th>Familienstand_geschieden</th>\n",
              "      <th>Familienstand_ledig</th>\n",
              "      <th>Familienstand_verheiratet</th>\n",
              "      <th>Beruf_Angestellter</th>\n",
              "      <th>Beruf_Arbeitslos</th>\n",
              "      <th>Beruf_Beamter</th>\n",
              "      <th>Beruf_Freiberufler</th>\n",
              "      <th>Beruf_Hausgehilfin</th>\n",
              "      <th>Beruf_Rentner</th>\n",
              "      <th>Beruf_Selbständig</th>\n",
              "      <th>Beruf_Servicekraft</th>\n",
              "      <th>Beruf_Student</th>\n",
              "      <th>Beruf_Techniker</th>\n",
              "      <th>Beruf_unbekannt</th>\n",
              "      <th>Ausbildung_Allgemeine Hochschulreife</th>\n",
              "      <th>Ausbildung_Hochschulabschluss</th>\n",
              "      <th>Ausbildung_Mittlere Reife</th>\n",
              "      <th>Ausbildung_unbekannt</th>\n",
              "      <th>Ausgefallen</th>\n",
              "      <th>Darlehen</th>\n",
              "      <th>Eigentum</th>\n",
              "      <th>Kontostand</th>\n",
              "      <th>Dauer</th>\n",
              "      <th>Alter</th>\n",
              "      <th>Label</th>\n",
              "      <th>prediction</th>\n",
              "      <th>probability</th>\n",
              "    </tr>\n",
              "  </thead>\n",
              "  <tbody>\n",
              "    <tr>\n",
              "      <th>14343</th>\n",
              "      <td>0</td>\n",
              "      <td>1</td>\n",
              "      <td>0</td>\n",
              "      <td>0</td>\n",
              "      <td>0</td>\n",
              "      <td>0</td>\n",
              "      <td>0</td>\n",
              "      <td>0</td>\n",
              "      <td>0</td>\n",
              "      <td>0</td>\n",
              "      <td>0</td>\n",
              "      <td>0</td>\n",
              "      <td>0</td>\n",
              "      <td>1</td>\n",
              "      <td>0</td>\n",
              "      <td>1</td>\n",
              "      <td>0</td>\n",
              "      <td>0</td>\n",
              "      <td>0</td>\n",
              "      <td>0</td>\n",
              "      <td>1</td>\n",
              "      <td>0.195242</td>\n",
              "      <td>0.131922</td>\n",
              "      <td>0.196078</td>\n",
              "      <td>0</td>\n",
              "      <td>0</td>\n",
              "      <td>0.321931</td>\n",
              "    </tr>\n",
              "    <tr>\n",
              "      <th>18379</th>\n",
              "      <td>0</td>\n",
              "      <td>0</td>\n",
              "      <td>1</td>\n",
              "      <td>0</td>\n",
              "      <td>0</td>\n",
              "      <td>0</td>\n",
              "      <td>0</td>\n",
              "      <td>0</td>\n",
              "      <td>0</td>\n",
              "      <td>0</td>\n",
              "      <td>0</td>\n",
              "      <td>0</td>\n",
              "      <td>0</td>\n",
              "      <td>1</td>\n",
              "      <td>0</td>\n",
              "      <td>1</td>\n",
              "      <td>0</td>\n",
              "      <td>0</td>\n",
              "      <td>0</td>\n",
              "      <td>0</td>\n",
              "      <td>0</td>\n",
              "      <td>0.175235</td>\n",
              "      <td>0.267508</td>\n",
              "      <td>0.254902</td>\n",
              "      <td>1</td>\n",
              "      <td>1</td>\n",
              "      <td>0.747163</td>\n",
              "    </tr>\n",
              "    <tr>\n",
              "      <th>4131</th>\n",
              "      <td>0</td>\n",
              "      <td>0</td>\n",
              "      <td>1</td>\n",
              "      <td>1</td>\n",
              "      <td>0</td>\n",
              "      <td>0</td>\n",
              "      <td>0</td>\n",
              "      <td>0</td>\n",
              "      <td>0</td>\n",
              "      <td>0</td>\n",
              "      <td>0</td>\n",
              "      <td>0</td>\n",
              "      <td>0</td>\n",
              "      <td>0</td>\n",
              "      <td>0</td>\n",
              "      <td>0</td>\n",
              "      <td>1</td>\n",
              "      <td>0</td>\n",
              "      <td>0</td>\n",
              "      <td>1</td>\n",
              "      <td>0</td>\n",
              "      <td>0.168788</td>\n",
              "      <td>0.039902</td>\n",
              "      <td>0.607843</td>\n",
              "      <td>0</td>\n",
              "      <td>0</td>\n",
              "      <td>0.042510</td>\n",
              "    </tr>\n",
              "    <tr>\n",
              "      <th>19980</th>\n",
              "      <td>0</td>\n",
              "      <td>0</td>\n",
              "      <td>1</td>\n",
              "      <td>0</td>\n",
              "      <td>1</td>\n",
              "      <td>0</td>\n",
              "      <td>0</td>\n",
              "      <td>0</td>\n",
              "      <td>0</td>\n",
              "      <td>0</td>\n",
              "      <td>0</td>\n",
              "      <td>0</td>\n",
              "      <td>0</td>\n",
              "      <td>0</td>\n",
              "      <td>1</td>\n",
              "      <td>0</td>\n",
              "      <td>0</td>\n",
              "      <td>0</td>\n",
              "      <td>0</td>\n",
              "      <td>0</td>\n",
              "      <td>0</td>\n",
              "      <td>0.184427</td>\n",
              "      <td>0.461726</td>\n",
              "      <td>0.705882</td>\n",
              "      <td>1</td>\n",
              "      <td>1</td>\n",
              "      <td>0.758124</td>\n",
              "    </tr>\n",
              "    <tr>\n",
              "      <th>14251</th>\n",
              "      <td>0</td>\n",
              "      <td>0</td>\n",
              "      <td>1</td>\n",
              "      <td>0</td>\n",
              "      <td>0</td>\n",
              "      <td>0</td>\n",
              "      <td>0</td>\n",
              "      <td>0</td>\n",
              "      <td>0</td>\n",
              "      <td>0</td>\n",
              "      <td>0</td>\n",
              "      <td>0</td>\n",
              "      <td>0</td>\n",
              "      <td>1</td>\n",
              "      <td>0</td>\n",
              "      <td>1</td>\n",
              "      <td>0</td>\n",
              "      <td>0</td>\n",
              "      <td>0</td>\n",
              "      <td>0</td>\n",
              "      <td>0</td>\n",
              "      <td>0.181848</td>\n",
              "      <td>0.130700</td>\n",
              "      <td>0.431373</td>\n",
              "      <td>0</td>\n",
              "      <td>0</td>\n",
              "      <td>0.331023</td>\n",
              "    </tr>\n",
              "  </tbody>\n",
              "</table>\n",
              "</div>"
            ],
            "text/plain": [
              "       Familienstand_geschieden  Familienstand_ledig  \\\n",
              "14343                         0                    1   \n",
              "18379                         0                    0   \n",
              "4131                          0                    0   \n",
              "19980                         0                    0   \n",
              "14251                         0                    0   \n",
              "\n",
              "       Familienstand_verheiratet  Beruf_Angestellter  Beruf_Arbeitslos  \\\n",
              "14343                          0                   0                 0   \n",
              "18379                          1                   0                 0   \n",
              "4131                           1                   1                 0   \n",
              "19980                          1                   0                 1   \n",
              "14251                          1                   0                 0   \n",
              "\n",
              "       Beruf_Beamter  Beruf_Freiberufler  Beruf_Hausgehilfin  Beruf_Rentner  \\\n",
              "14343              0                   0                   0              0   \n",
              "18379              0                   0                   0              0   \n",
              "4131               0                   0                   0              0   \n",
              "19980              0                   0                   0              0   \n",
              "14251              0                   0                   0              0   \n",
              "\n",
              "       Beruf_Selbständig  Beruf_Servicekraft  Beruf_Student  Beruf_Techniker  \\\n",
              "14343                  0                   0              0                0   \n",
              "18379                  0                   0              0                0   \n",
              "4131                   0                   0              0                0   \n",
              "19980                  0                   0              0                0   \n",
              "14251                  0                   0              0                0   \n",
              "\n",
              "       Beruf_unbekannt  Ausbildung_Allgemeine Hochschulreife  \\\n",
              "14343                1                                     0   \n",
              "18379                1                                     0   \n",
              "4131                 0                                     0   \n",
              "19980                0                                     1   \n",
              "14251                1                                     0   \n",
              "\n",
              "       Ausbildung_Hochschulabschluss  Ausbildung_Mittlere Reife  \\\n",
              "14343                              1                          0   \n",
              "18379                              1                          0   \n",
              "4131                               0                          1   \n",
              "19980                              0                          0   \n",
              "14251                              1                          0   \n",
              "\n",
              "       Ausbildung_unbekannt  Ausgefallen  Darlehen  Eigentum  Kontostand  \\\n",
              "14343                     0            0         0         1    0.195242   \n",
              "18379                     0            0         0         0    0.175235   \n",
              "4131                      0            0         1         0    0.168788   \n",
              "19980                     0            0         0         0    0.184427   \n",
              "14251                     0            0         0         0    0.181848   \n",
              "\n",
              "          Dauer     Alter  Label  prediction  probability  \n",
              "14343  0.131922  0.196078      0           0     0.321931  \n",
              "18379  0.267508  0.254902      1           1     0.747163  \n",
              "4131   0.039902  0.607843      0           0     0.042510  \n",
              "19980  0.461726  0.705882      1           1     0.758124  \n",
              "14251  0.130700  0.431373      0           0     0.331023  "
            ]
          },
          "metadata": {
            "tags": []
          },
          "execution_count": 46
        }
      ]
    },
    {
      "cell_type": "code",
      "metadata": {
        "id": "HpD5ogYY4UDy",
        "colab": {
          "base_uri": "https://localhost:8080/",
          "height": 481
        },
        "outputId": "59208a98-a153-4150-c1ae-ed4535e6152b"
      },
      "source": [
        "results2['adj_prediction']= np.where(results2['probability']>=0.39,1,0)\r\n",
        "cm2=confusion_matrix(Y2_test ,results2['adj_prediction'])\r\n",
        "plt.figure(figsize=(7,7))\r\n",
        "sns.heatmap(cm2,annot=True,fmt=\"d\",cbar=False )\r\n",
        "plt.title('confusion Matrix')\r\n",
        "plt.ylabel(\"Actual\")\r\n",
        "plt.xlabel(\"Prediction\")"
      ],
      "execution_count": null,
      "outputs": [
        {
          "output_type": "execute_result",
          "data": {
            "text/plain": [
              "Text(0.5, 42.0, 'Prediction')"
            ]
          },
          "metadata": {
            "tags": []
          },
          "execution_count": 47
        },
        {
          "output_type": "display_data",
          "data": {
            "image/png": "[encoded data removed]",
            "text/plain": [
              "<Figure size 504x504 with 1 Axes>"
            ]
          },
          "metadata": {
            "tags": []
          }
        }
      ]
    },
    {
      "cell_type": "code",
      "metadata": {
        "id": "yRFbUUdY6DSq",
        "colab": {
          "base_uri": "https://localhost:8080/"
        },
        "outputId": "367337a5-63b2-4411-e5cc-e3075e175621"
      },
      "source": [
        "accuracy= accuracy_score(Y2_test,results2['adj_prediction'])\r\n",
        "print(accuracy)"
      ],
      "execution_count": null,
      "outputs": [
        {
          "output_type": "stream",
          "text": [
            "0.8186402081977879\n"
          ],
          "name": "stdout"
        }
      ]
    },
    {
      "cell_type": "code",
      "metadata": {
        "id": "aSupTBJo6rR3",
        "colab": {
          "base_uri": "https://localhost:8080/"
        },
        "outputId": "75b5c75a-a8eb-44d9-c0b6-481a8b2ee0c5"
      },
      "source": [
        "from sklearn.metrics import precision_score\r\n",
        "precision= precision_score(Y2_test,results2['prediction'])\r\n",
        "print(precision)"
      ],
      "execution_count": null,
      "outputs": [
        {
          "output_type": "stream",
          "text": [
            "0.6715643906655142\n"
          ],
          "name": "stdout"
        }
      ]
    },
    {
      "cell_type": "code",
      "metadata": {
        "id": "lWL_E69T7Zax",
        "colab": {
          "base_uri": "https://localhost:8080/"
        },
        "outputId": "b865831c-f83c-47b7-d96d-c076857d9631"
      },
      "source": [
        "from sklearn.metrics import recall_score\r\n",
        "recall= recall_score(Y2_test,results2['prediction'])\r\n",
        "print(recall)"
      ],
      "execution_count": null,
      "outputs": [
        {
          "output_type": "stream",
          "text": [
            "0.5314637482900136\n"
          ],
          "name": "stdout"
        }
      ]
    },
    {
      "cell_type": "code",
      "metadata": {
        "id": "Nm5HxilkDwvy",
        "colab": {
          "base_uri": "https://localhost:8080/"
        },
        "outputId": "2e77b80f-cf1d-4c2f-89ff-2ee34e04155a"
      },
      "source": [
        "Auc= roc_auc_score(Y2_test,results2['probability'])\r\n",
        "print(Auc)"
      ],
      "execution_count": null,
      "outputs": [
        {
          "output_type": "stream",
          "text": [
            "0.8705041883352512\n"
          ],
          "name": "stdout"
        }
      ]
    },
    {
      "cell_type": "code",
      "metadata": {
        "id": "B1gPMXHtwKhP",
        "colab": {
          "base_uri": "https://localhost:8080/",
          "height": 410
        },
        "outputId": "a45a0fda-3028-4c20-ab33-2316eed87490"
      },
      "source": [
        "import numpy as np \r\n",
        "from sklearn.metrics import roc_curve, auc\r\n",
        "fpr, tpr, threholds = roc_curve(Y2_test,results2['probability'])\r\n",
        "plt.subplots(figsize=(10,6))\r\n",
        "plt.plot(fpr,tpr,'o-',label=\"ROC curve\")\r\n",
        "plt.plot(np.linspace(0,1,10),np.linspace(0,1,10),label='diagonal')\r\n",
        "\r\n",
        "plt.legend(loc=\"upper left\")\r\n",
        "plt.xlabel(\"FPR\")\r\n",
        "plt.ylabel(\"TPR\")"
      ],
      "execution_count": null,
      "outputs": [
        {
          "output_type": "execute_result",
          "data": {
            "text/plain": [
              "Text(0, 0.5, 'TPR')"
            ]
          },
          "metadata": {
            "tags": []
          },
          "execution_count": 52
        },
        {
          "output_type": "display_data",
          "data": {
            "image/png": "[encoded data removed]",
            "text/plain": [
              "<Figure size 720x432 with 1 Axes>"
            ]
          },
          "metadata": {
            "tags": []
          }
        }
      ]
    },
    {
      "cell_type": "markdown",
      "metadata": {
        "id": "BQEr8qsUklF0"
      },
      "source": [
        "## `Random Forest vs Tensorflow`"
      ]
    },
    {
      "cell_type": "code",
      "metadata": {
        "id": "bswie-nVxDSi",
        "colab": {
          "base_uri": "https://localhost:8080/",
          "height": 700
        },
        "outputId": "fe8734f6-ca83-4013-91f8-293f8539818b"
      },
      "source": [
        "fpr, tpr, threholds = roc_curve(Y2_test,results2['probability'])\r\n",
        "plt.subplots(figsize=(20,12))\r\n",
        "plt.plot(fpr,tpr,'o-',label=\"Random Forest Classificer\")\r\n",
        "plt.plot(np.linspace(1,1,10),np.linspace(0,1,10),label='diagonal')\r\n",
        "\r\n",
        "plt.legend(loc=\"upper left\")\r\n",
        "plt.xlabel(\"FPR\")\r\n",
        "plt.ylabel(\"TPR\")\r\n",
        "\r\n",
        "fpr, tpr, threholds = roc_curve(Y_test,y_pred)\r\n",
        "plt.plot(fpr,tpr,'o-',label=\"Tenserflow \")\r\n",
        "plt.plot(np.linspace(0,1,10),np.linspace(0,1,10),label='diagonal')\r\n",
        "\r\n",
        "plt.legend(loc=\"upper left\")\r\n",
        "plt.xlabel(\"FPR\")\r\n",
        "plt.ylabel(\"TPR\")\r\n",
        "\r\n"
      ],
      "execution_count": null,
      "outputs": [
        {
          "output_type": "execute_result",
          "data": {
            "text/plain": [
              "Text(0, 0.5, 'TPR')"
            ]
          },
          "metadata": {
            "tags": []
          },
          "execution_count": 53
        },
        {
          "output_type": "display_data",
          "data": {
            "image/png": "[encoded data removed]",
            "text/plain": [
              "<Figure size 1440x864 with 1 Axes>"
            ]
          },
          "metadata": {
            "tags": []
          }
        }
      ]
    },
    {
      "cell_type": "markdown",
      "metadata": {
        "id": "CcCp99Zqwka2"
      },
      "source": [
        "#  Evaluation"
      ]
    },
    {
      "cell_type": "code",
      "metadata": {
        "colab": {
          "base_uri": "https://localhost:8080/"
        },
        "id": "VPpTBY8deXlt",
        "outputId": "4b70680b-60d9-4818-e755-f7aa6f7e06c3"
      },
      "source": [
        "rf=RandomForestClassifier(criterion=\"gini\",random_state=4711,max_depth=6)\r\n",
        "print('parameters currently in use:\\n')\r\n",
        "print(rf.get_params())"
      ],
      "execution_count": null,
      "outputs": [
        {
          "output_type": "stream",
          "text": [
            "parameters currently in use:\n",
            "\n",
            "{'bootstrap': True, 'ccp_alpha': 0.0, 'class_weight': None, 'criterion': 'gini', 'max_depth': 6, 'max_features': 'auto', 'max_leaf_nodes': None, 'max_samples': None, 'min_impurity_decrease': 0.0, 'min_impurity_split': None, 'min_samples_leaf': 1, 'min_samples_split': 2, 'min_weight_fraction_leaf': 0.0, 'n_estimators': 100, 'n_jobs': None, 'oob_score': False, 'random_state': 4711, 'verbose': 0, 'warm_start': False}\n"
          ],
          "name": "stdout"
        }
      ]
    },
    {
      "cell_type": "code",
      "metadata": {
        "id": "SrZwuBozq1e0",
        "colab": {
          "base_uri": "https://localhost:8080/"
        },
        "outputId": "bbb47dc1-a3bf-41b2-e8b9-dca67eaf2f99"
      },
      "source": [
        "#Anzahl der Bäume im zufälligen Wald\r\n",
        "n_estimators = [int(x) for x in np.linspace(start = 800,stop = 900,num= 10)]\r\n",
        "# Maximale Anzahl von Ebenen im Baum\r\n",
        "max_depth=[int(x)for x in np.linspace(80,85,num=10)]\r\n",
        "max_depth.append(None)\r\n",
        "# Mindestanzahl von Samples, die zum Teilen eines Knotens erforderlich sind\r\n",
        "min_samples_split = [5,10]\r\n",
        "# Mindestanzahl der an jedem Blattknoten erforderlichen Proben\r\n",
        "min_samples_leaf = [1,4]\r\n",
        "# Erstellen Sie das Zufallsraster\r\n",
        "random_grid={'n_estimators':n_estimators,\r\n",
        "             'max_depth':max_depth,\r\n",
        "             'min_samples_split':min_samples_split,\r\n",
        "             'min_samples_leaf':min_samples_leaf}\r\n",
        "print(random_grid)"
      ],
      "execution_count": null,
      "outputs": [
        {
          "output_type": "stream",
          "text": [
            "{'n_estimators': [800, 800, 801, 801, 802, 802, 803, 803, 804, 805], 'max_depth': [80, 80, 81, 81, 82, 82, 83, 83, 84, 85, None], 'min_samples_split': [5, 10], 'min_samples_leaf': [1, 4]}\n"
          ],
          "name": "stdout"
        }
      ]
    },
    {
      "cell_type": "code",
      "metadata": {
        "id": "qCt7jzJadh3e"
      },
      "source": [
        "rf=RandomForestClassifier(n_estimators=10,criterion=\"gini\",random_state=4711)"
      ],
      "execution_count": null,
      "outputs": []
    },
    {
      "cell_type": "code",
      "metadata": {
        "id": "BBR8NGahdjbZ"
      },
      "source": [
        "rf_random = RandomizedSearchCV(estimator=rf,param_distributions = random_grid,n_iter =100, cv=3,random_state=4711,n_jobs=-1)"
      ],
      "execution_count": null,
      "outputs": []
    },
    {
      "cell_type": "code",
      "metadata": {
        "id": "rdxcABrrduIs",
        "colab": {
          "base_uri": "https://localhost:8080/"
        },
        "outputId": "1baa7a0f-d4c0-4c1b-8bbb-e511ebb48948"
      },
      "source": [
        "rf_random.fit(X_train,Y_train)"
      ],
      "execution_count": null,
      "outputs": [
        {
          "output_type": "execute_result",
          "data": {
            "text/plain": [
              "RandomizedSearchCV(cv=3, error_score=nan,\n",
              "                   estimator=RandomForestClassifier(bootstrap=True,\n",
              "                                                    ccp_alpha=0.0,\n",
              "                                                    class_weight=None,\n",
              "                                                    criterion='gini',\n",
              "                                                    max_depth=None,\n",
              "                                                    max_features='auto',\n",
              "                                                    max_leaf_nodes=None,\n",
              "                                                    max_samples=None,\n",
              "                                                    min_impurity_decrease=0.0,\n",
              "                                                    min_impurity_split=None,\n",
              "                                                    min_samples_leaf=1,\n",
              "                                                    min_samples_split=2,\n",
              "                                                    min_weight_fraction_leaf=0.0,\n",
              "                                                    n_estimators=10,\n",
              "                                                    n_jobs=...\n",
              "                                                    random_state=4711,\n",
              "                                                    verbose=0,\n",
              "                                                    warm_start=False),\n",
              "                   iid='deprecated', n_iter=100, n_jobs=-1,\n",
              "                   param_distributions={'max_depth': [80, 80, 81, 81, 82, 82,\n",
              "                                                      83, 83, 84, 85, None],\n",
              "                                        'min_samples_leaf': [1, 4],\n",
              "                                        'min_samples_split': [5, 10],\n",
              "                                        'n_estimators': [800, 800, 801, 801,\n",
              "                                                         802, 802, 803, 803,\n",
              "                                                         804, 805]},\n",
              "                   pre_dispatch='2*n_jobs', random_state=4711, refit=True,\n",
              "                   return_train_score=False, scoring=None, verbose=0)"
            ]
          },
          "metadata": {
            "tags": []
          },
          "execution_count": 56
        }
      ]
    },
    {
      "cell_type": "code",
      "metadata": {
        "id": "bugE8l6gdxDI",
        "colab": {
          "base_uri": "https://localhost:8080/"
        },
        "outputId": "edf1ce88-e1a1-4731-d0df-6a7f874bd8e6"
      },
      "source": [
        "rf_random.best_params_\r\n"
      ],
      "execution_count": null,
      "outputs": [
        {
          "output_type": "execute_result",
          "data": {
            "text/plain": [
              "{'max_depth': 81,\n",
              " 'min_samples_leaf': 1,\n",
              " 'min_samples_split': 10,\n",
              " 'n_estimators': 800}"
            ]
          },
          "metadata": {
            "tags": []
          },
          "execution_count": 57
        }
      ]
    },
    {
      "cell_type": "code",
      "metadata": {
        "id": "L2jd2TwKdqvU",
        "colab": {
          "base_uri": "https://localhost:8080/"
        },
        "outputId": "a044cbb2-ece2-4cf2-9f15-8fa0afad5b4b"
      },
      "source": [
        "rf_random.best_score_"
      ],
      "execution_count": null,
      "outputs": [
        {
          "output_type": "execute_result",
          "data": {
            "text/plain": [
              "0.8241896648558894"
            ]
          },
          "metadata": {
            "tags": []
          },
          "execution_count": 58
        }
      ]
    },
    {
      "cell_type": "code",
      "metadata": {
        "id": "5x8CmgQxPr27",
        "colab": {
          "base_uri": "https://localhost:8080/"
        },
        "outputId": "145cfb2d-f512-4d1e-fe30-b9c4f1f225b1"
      },
      "source": [
        "# Fit Random Forest classifier\r\n",
        "rf=RandomForestClassifier(bootstrap = True,max_depth= 81,min_samples_leaf= 1,min_samples_split= 10,n_estimators=800 )\r\n",
        "rf.fit(X_train,Y_train)"
      ],
      "execution_count": null,
      "outputs": [
        {
          "output_type": "execute_result",
          "data": {
            "text/plain": [
              "RandomForestClassifier(bootstrap=True, ccp_alpha=0.0, class_weight=None,\n",
              "                       criterion='gini', max_depth=81, max_features='auto',\n",
              "                       max_leaf_nodes=None, max_samples=None,\n",
              "                       min_impurity_decrease=0.0, min_impurity_split=None,\n",
              "                       min_samples_leaf=1, min_samples_split=10,\n",
              "                       min_weight_fraction_leaf=0.0, n_estimators=800,\n",
              "                       n_jobs=None, oob_score=False, random_state=None,\n",
              "                       verbose=0, warm_start=False)"
            ]
          },
          "metadata": {
            "tags": []
          },
          "execution_count": 59
        }
      ]
    },
    {
      "cell_type": "code",
      "metadata": {
        "colab": {
          "base_uri": "https://localhost:8080/"
        },
        "id": "Tw0fAGXSv5Fp",
        "outputId": "27d5404b-20d9-4b9a-c6c3-ec565e317968"
      },
      "source": [
        "predictions = rf.predict(X_test)\r\n",
        "predicted_probs = rf.predict_proba(X_test)\r\n",
        "print(predicted_probs)"
      ],
      "execution_count": null,
      "outputs": [
        {
          "output_type": "stream",
          "text": [
            "[[0.66744099 0.33255901]\n",
            " [0.24767825 0.75232175]\n",
            " [0.95402327 0.04597673]\n",
            " ...\n",
            " [0.93600373 0.06399627]\n",
            " [0.31319869 0.68680131]\n",
            " [0.77504158 0.22495842]]\n"
          ],
          "name": "stdout"
        }
      ]
    },
    {
      "cell_type": "code",
      "metadata": {
        "colab": {
          "base_uri": "https://localhost:8080/",
          "height": 243
        },
        "id": "fjdQCM-Rv5Fq",
        "outputId": "91f5dbaa-0786-419f-c21d-2ab680fbc86c"
      },
      "source": [
        "results= X_test.copy()\r\n",
        "results['Label'] = Y_test\r\n",
        "results['prediction'] = predictions\r\n",
        "results['probability'] =predicted_probs[:,1]\r\n",
        "results.head()"
      ],
      "execution_count": null,
      "outputs": [
        {
          "output_type": "execute_result",
          "data": {
            "text/html": [
              "<div>\n",
              "<style scoped>\n",
              "    .dataframe tbody tr th:only-of-type {\n",
              "        vertical-align: middle;\n",
              "    }\n",
              "\n",
              "    .dataframe tbody tr th {\n",
              "        vertical-align: top;\n",
              "    }\n",
              "\n",
              "    .dataframe thead th {\n",
              "        text-align: right;\n",
              "    }\n",
              "</style>\n",
              "<table border=\"1\" class=\"dataframe\">\n",
              "  <thead>\n",
              "    <tr style=\"text-align: right;\">\n",
              "      <th></th>\n",
              "      <th>Familienstand_geschieden</th>\n",
              "      <th>Familienstand_ledig</th>\n",
              "      <th>Familienstand_verheiratet</th>\n",
              "      <th>Beruf_Angestellter</th>\n",
              "      <th>Beruf_Arbeitslos</th>\n",
              "      <th>Beruf_Beamter</th>\n",
              "      <th>Beruf_Freiberufler</th>\n",
              "      <th>Beruf_Hausgehilfin</th>\n",
              "      <th>Beruf_Rentner</th>\n",
              "      <th>Beruf_Selbständig</th>\n",
              "      <th>Beruf_Servicekraft</th>\n",
              "      <th>Beruf_Student</th>\n",
              "      <th>Beruf_Techniker</th>\n",
              "      <th>Beruf_unbekannt</th>\n",
              "      <th>Ausbildung_Allgemeine Hochschulreife</th>\n",
              "      <th>Ausbildung_Hochschulabschluss</th>\n",
              "      <th>Ausbildung_Mittlere Reife</th>\n",
              "      <th>Ausbildung_unbekannt</th>\n",
              "      <th>Ausgefallen</th>\n",
              "      <th>Darlehen</th>\n",
              "      <th>Eigentum</th>\n",
              "      <th>Kontostand</th>\n",
              "      <th>Dauer</th>\n",
              "      <th>Alter</th>\n",
              "      <th>Label</th>\n",
              "      <th>prediction</th>\n",
              "      <th>probability</th>\n",
              "    </tr>\n",
              "  </thead>\n",
              "  <tbody>\n",
              "    <tr>\n",
              "      <th>14343</th>\n",
              "      <td>0</td>\n",
              "      <td>1</td>\n",
              "      <td>0</td>\n",
              "      <td>0</td>\n",
              "      <td>0</td>\n",
              "      <td>0</td>\n",
              "      <td>0</td>\n",
              "      <td>0</td>\n",
              "      <td>0</td>\n",
              "      <td>0</td>\n",
              "      <td>0</td>\n",
              "      <td>0</td>\n",
              "      <td>0</td>\n",
              "      <td>1</td>\n",
              "      <td>0</td>\n",
              "      <td>1</td>\n",
              "      <td>0</td>\n",
              "      <td>0</td>\n",
              "      <td>0</td>\n",
              "      <td>0</td>\n",
              "      <td>1</td>\n",
              "      <td>0.195242</td>\n",
              "      <td>0.131922</td>\n",
              "      <td>0.196078</td>\n",
              "      <td>0</td>\n",
              "      <td>0</td>\n",
              "      <td>0.332559</td>\n",
              "    </tr>\n",
              "    <tr>\n",
              "      <th>18379</th>\n",
              "      <td>0</td>\n",
              "      <td>0</td>\n",
              "      <td>1</td>\n",
              "      <td>0</td>\n",
              "      <td>0</td>\n",
              "      <td>0</td>\n",
              "      <td>0</td>\n",
              "      <td>0</td>\n",
              "      <td>0</td>\n",
              "      <td>0</td>\n",
              "      <td>0</td>\n",
              "      <td>0</td>\n",
              "      <td>0</td>\n",
              "      <td>1</td>\n",
              "      <td>0</td>\n",
              "      <td>1</td>\n",
              "      <td>0</td>\n",
              "      <td>0</td>\n",
              "      <td>0</td>\n",
              "      <td>0</td>\n",
              "      <td>0</td>\n",
              "      <td>0.175235</td>\n",
              "      <td>0.267508</td>\n",
              "      <td>0.254902</td>\n",
              "      <td>1</td>\n",
              "      <td>1</td>\n",
              "      <td>0.752322</td>\n",
              "    </tr>\n",
              "    <tr>\n",
              "      <th>4131</th>\n",
              "      <td>0</td>\n",
              "      <td>0</td>\n",
              "      <td>1</td>\n",
              "      <td>1</td>\n",
              "      <td>0</td>\n",
              "      <td>0</td>\n",
              "      <td>0</td>\n",
              "      <td>0</td>\n",
              "      <td>0</td>\n",
              "      <td>0</td>\n",
              "      <td>0</td>\n",
              "      <td>0</td>\n",
              "      <td>0</td>\n",
              "      <td>0</td>\n",
              "      <td>0</td>\n",
              "      <td>0</td>\n",
              "      <td>1</td>\n",
              "      <td>0</td>\n",
              "      <td>0</td>\n",
              "      <td>1</td>\n",
              "      <td>0</td>\n",
              "      <td>0.168788</td>\n",
              "      <td>0.039902</td>\n",
              "      <td>0.607843</td>\n",
              "      <td>0</td>\n",
              "      <td>0</td>\n",
              "      <td>0.045977</td>\n",
              "    </tr>\n",
              "    <tr>\n",
              "      <th>19980</th>\n",
              "      <td>0</td>\n",
              "      <td>0</td>\n",
              "      <td>1</td>\n",
              "      <td>0</td>\n",
              "      <td>1</td>\n",
              "      <td>0</td>\n",
              "      <td>0</td>\n",
              "      <td>0</td>\n",
              "      <td>0</td>\n",
              "      <td>0</td>\n",
              "      <td>0</td>\n",
              "      <td>0</td>\n",
              "      <td>0</td>\n",
              "      <td>0</td>\n",
              "      <td>1</td>\n",
              "      <td>0</td>\n",
              "      <td>0</td>\n",
              "      <td>0</td>\n",
              "      <td>0</td>\n",
              "      <td>0</td>\n",
              "      <td>0</td>\n",
              "      <td>0.184427</td>\n",
              "      <td>0.461726</td>\n",
              "      <td>0.705882</td>\n",
              "      <td>1</td>\n",
              "      <td>1</td>\n",
              "      <td>0.759447</td>\n",
              "    </tr>\n",
              "    <tr>\n",
              "      <th>14251</th>\n",
              "      <td>0</td>\n",
              "      <td>0</td>\n",
              "      <td>1</td>\n",
              "      <td>0</td>\n",
              "      <td>0</td>\n",
              "      <td>0</td>\n",
              "      <td>0</td>\n",
              "      <td>0</td>\n",
              "      <td>0</td>\n",
              "      <td>0</td>\n",
              "      <td>0</td>\n",
              "      <td>0</td>\n",
              "      <td>0</td>\n",
              "      <td>1</td>\n",
              "      <td>0</td>\n",
              "      <td>1</td>\n",
              "      <td>0</td>\n",
              "      <td>0</td>\n",
              "      <td>0</td>\n",
              "      <td>0</td>\n",
              "      <td>0</td>\n",
              "      <td>0.181848</td>\n",
              "      <td>0.130700</td>\n",
              "      <td>0.431373</td>\n",
              "      <td>0</td>\n",
              "      <td>0</td>\n",
              "      <td>0.333982</td>\n",
              "    </tr>\n",
              "  </tbody>\n",
              "</table>\n",
              "</div>"
            ],
            "text/plain": [
              "       Familienstand_geschieden  Familienstand_ledig  \\\n",
              "14343                         0                    1   \n",
              "18379                         0                    0   \n",
              "4131                          0                    0   \n",
              "19980                         0                    0   \n",
              "14251                         0                    0   \n",
              "\n",
              "       Familienstand_verheiratet  Beruf_Angestellter  Beruf_Arbeitslos  \\\n",
              "14343                          0                   0                 0   \n",
              "18379                          1                   0                 0   \n",
              "4131                           1                   1                 0   \n",
              "19980                          1                   0                 1   \n",
              "14251                          1                   0                 0   \n",
              "\n",
              "       Beruf_Beamter  Beruf_Freiberufler  Beruf_Hausgehilfin  Beruf_Rentner  \\\n",
              "14343              0                   0                   0              0   \n",
              "18379              0                   0                   0              0   \n",
              "4131               0                   0                   0              0   \n",
              "19980              0                   0                   0              0   \n",
              "14251              0                   0                   0              0   \n",
              "\n",
              "       Beruf_Selbständig  Beruf_Servicekraft  Beruf_Student  Beruf_Techniker  \\\n",
              "14343                  0                   0              0                0   \n",
              "18379                  0                   0              0                0   \n",
              "4131                   0                   0              0                0   \n",
              "19980                  0                   0              0                0   \n",
              "14251                  0                   0              0                0   \n",
              "\n",
              "       Beruf_unbekannt  Ausbildung_Allgemeine Hochschulreife  \\\n",
              "14343                1                                     0   \n",
              "18379                1                                     0   \n",
              "4131                 0                                     0   \n",
              "19980                0                                     1   \n",
              "14251                1                                     0   \n",
              "\n",
              "       Ausbildung_Hochschulabschluss  Ausbildung_Mittlere Reife  \\\n",
              "14343                              1                          0   \n",
              "18379                              1                          0   \n",
              "4131                               0                          1   \n",
              "19980                              0                          0   \n",
              "14251                              1                          0   \n",
              "\n",
              "       Ausbildung_unbekannt  Ausgefallen  Darlehen  Eigentum  Kontostand  \\\n",
              "14343                     0            0         0         1    0.195242   \n",
              "18379                     0            0         0         0    0.175235   \n",
              "4131                      0            0         1         0    0.168788   \n",
              "19980                     0            0         0         0    0.184427   \n",
              "14251                     0            0         0         0    0.181848   \n",
              "\n",
              "          Dauer     Alter  Label  prediction  probability  \n",
              "14343  0.131922  0.196078      0           0     0.332559  \n",
              "18379  0.267508  0.254902      1           1     0.752322  \n",
              "4131   0.039902  0.607843      0           0     0.045977  \n",
              "19980  0.461726  0.705882      1           1     0.759447  \n",
              "14251  0.130700  0.431373      0           0     0.333982  "
            ]
          },
          "metadata": {
            "tags": []
          },
          "execution_count": 61
        }
      ]
    },
    {
      "cell_type": "code",
      "metadata": {
        "colab": {
          "base_uri": "https://localhost:8080/"
        },
        "id": "x8KwH6PjwFGV",
        "outputId": "f0cd402b-8811-49a6-8b67-93baca7f32e7"
      },
      "source": [
        "accuracy=accuracy_score(Y_test,results['prediction'])\r\n",
        "print(accuracy)"
      ],
      "execution_count": null,
      "outputs": [
        {
          "output_type": "stream",
          "text": [
            "0.8259596616785947\n"
          ],
          "name": "stdout"
        }
      ]
    },
    {
      "cell_type": "code",
      "metadata": {
        "id": "TX1D85yX3gPp"
      },
      "source": [
        "param_grid={\r\n",
        "    'max_depth':[60,70,80,90],\r\n",
        "    'min_samples_leaf':[3,4,5],\r\n",
        "    'min_samples_split':[8,10,12],\r\n",
        "    'n_estimators':[100,200,300,800]\r\n",
        "}\r\n",
        "rf= RandomForestClassifier()\r\n",
        "grid_search = GridSearchCV(estimator=rf,param_grid=param_grid,cv=5,n_jobs=-1,verbose=2)\r\n"
      ],
      "execution_count": null,
      "outputs": []
    },
    {
      "cell_type": "code",
      "metadata": {
        "id": "S9iUE9qz9XjN",
        "colab": {
          "base_uri": "https://localhost:8080/"
        },
        "outputId": "611de756-532e-45e1-b320-e7909e2d8910"
      },
      "source": [
        "grid_search.fit(X_train,Y_train)\r\n",
        "grid_search.best_params_"
      ],
      "execution_count": null,
      "outputs": [
        {
          "output_type": "stream",
          "text": [
            "Fitting 5 folds for each of 144 candidates, totalling 720 fits\n"
          ],
          "name": "stdout"
        },
        {
          "output_type": "stream",
          "text": [
            "[Parallel(n_jobs=-1)]: Using backend LokyBackend with 2 concurrent workers.\n",
            "[Parallel(n_jobs=-1)]: Done  37 tasks      | elapsed:  1.6min\n",
            "[Parallel(n_jobs=-1)]: Done 158 tasks      | elapsed:  7.1min\n",
            "[Parallel(n_jobs=-1)]: Done 361 tasks      | elapsed: 16.2min\n",
            "[Parallel(n_jobs=-1)]: Done 644 tasks      | elapsed: 28.9min\n",
            "[Parallel(n_jobs=-1)]: Done 720 out of 720 | elapsed: 32.4min finished\n"
          ],
          "name": "stderr"
        },
        {
          "output_type": "execute_result",
          "data": {
            "text/plain": [
              "{'max_depth': 60,\n",
              " 'min_samples_leaf': 3,\n",
              " 'min_samples_split': 8,\n",
              " 'n_estimators': 300}"
            ]
          },
          "metadata": {
            "tags": []
          },
          "execution_count": 64
        }
      ]
    },
    {
      "cell_type": "code",
      "metadata": {
        "id": "ybmIjsGT93XX",
        "colab": {
          "base_uri": "https://localhost:8080/"
        },
        "outputId": "3c3cb3bc-f640-4c1a-a8ba-eef688e4cf9b"
      },
      "source": [
        "rf=RandomForestClassifier(bootstrap=True,\r\n",
        "                          max_depth=90,\r\n",
        "                          min_samples_leaf=3,\r\n",
        "                          min_samples_split=8,\r\n",
        "                          n_estimators=300)\r\n",
        "rf.fit(X_train, Y_train)\r\n",
        "prediction=rf.predict(X_test)\r\n",
        "results['prediction']=predictions\r\n",
        "\r\n",
        "accuracy= accuracy_score(Y_test,results['prediction'])\r\n",
        "print(accuracy)"
      ],
      "execution_count": null,
      "outputs": [
        {
          "output_type": "stream",
          "text": [
            "0.8259596616785947\n"
          ],
          "name": "stdout"
        }
      ]
    },
    {
      "cell_type": "code",
      "metadata": {
        "id": "4N-uPnIETSUd",
        "colab": {
          "base_uri": "https://localhost:8080/"
        },
        "outputId": "ffb2a0f2-b1c0-4d56-a0d0-ae6ebf5f75c5"
      },
      "source": [
        "from sklearn.metrics import roc_auc_score\r\n",
        "auc=roc_auc_score(Y_test,results['probability'])\r\n",
        "print('AUC',auc)"
      ],
      "execution_count": null,
      "outputs": [
        {
          "output_type": "stream",
          "text": [
            "AUC 0.8706338057362123\n"
          ],
          "name": "stdout"
        }
      ]
    },
    {
      "cell_type": "code",
      "metadata": {
        "id": "Os0KFP0KXl0Z",
        "colab": {
          "base_uri": "https://localhost:8080/",
          "height": 410
        },
        "outputId": "ab015464-7c53-4944-c856-528d02fcdf61"
      },
      "source": [
        "import numpy as np \r\n",
        "from sklearn.metrics import roc_curve, auc\r\n",
        "fpr, tpr, threholds = roc_curve(Y_test,results['probability'])\r\n",
        "plt.subplots(figsize=(10,6))\r\n",
        "plt.plot(fpr,tpr,'o-',label=\"ROC curve\")\r\n",
        "plt.plot(np.linspace(0,1,10),np.linspace(0,1,10),label='diagonal')\r\n",
        "\r\n",
        "plt.legend(loc=\"upper left\")\r\n",
        "plt.xlabel(\"FPR\")\r\n",
        "plt.ylabel(\"TPR\")"
      ],
      "execution_count": null,
      "outputs": [
        {
          "output_type": "execute_result",
          "data": {
            "text/plain": [
              "Text(0, 0.5, 'TPR')"
            ]
          },
          "metadata": {
            "tags": []
          },
          "execution_count": 67
        },
        {
          "output_type": "display_data",
          "data": {
            "image/png": "[encoded data removed]",
            "text/plain": [
              "<Figure size 720x432 with 1 Axes>"
            ]
          },
          "metadata": {
            "tags": []
          }
        }
      ]
    },
    {
      "cell_type": "markdown",
      "metadata": {
        "id": "U2GMAk0sGWwe"
      },
      "source": [
        "### Vorhersage der Idealisten"
      ]
    },
    {
      "cell_type": "markdown",
      "metadata": {
        "id": "5nYlrDZTapgT"
      },
      "source": [
        "Das Löschen von Daten ist nicht der richtige Weg, um die Genauigkeit zu erhöhen. In diesem Abschnitt wird nur gezeigt, was uns durch den Kopf gegangen ist."
      ]
    },
    {
      "cell_type": "code",
      "metadata": {
        "id": "Y3nPYl0PdQam",
        "colab": {
          "base_uri": "https://localhost:8080/",
          "height": 766
        },
        "outputId": "bc343ee8-5956-4437-f30a-7a41645b6063"
      },
      "source": [
        "Funktionsliste=list(X.columns)\r\n",
        "modelo= RandomForestClassifier(n_estimators=800,random_state=4711)\r\n",
        "modelo.fit(X_train, Y_train)\r\n",
        "Wichtige_Funktionen= pd.Series(modelo.feature_importances_,index=Funktionsliste).sort_values(ascending=False)\r\n",
        "print(Wichtige_Funktionen)\r\n",
        "plt.figure()\r\n",
        "plt.title(\"Wichtige Funktionen\")\r\n",
        "plt.barh(range(X.shape[1]),Wichtige_Funktionen,\r\n",
        "       color=\"r\", align=\"center\")\r\n",
        "plt.yticks(range(X.shape[1]), Wichtige_Funktionen.index)\r\n",
        "plt.ylim([-1, X.shape[1]])\r\n",
        "plt.show()"
      ],
      "execution_count": null,
      "outputs": [
        {
          "output_type": "stream",
          "text": [
            "Dauer                                   0.427468\n",
            "Kontostand                              0.235777\n",
            "Alter                                   0.162744\n",
            "Eigentum                                0.036333\n",
            "Beruf_Rentner                           0.015594\n",
            "Darlehen                                0.011212\n",
            "Familienstand_verheiratet               0.008781\n",
            "Beruf_Techniker                         0.008613\n",
            "Ausbildung_Hochschulabschluss           0.008294\n",
            "Beruf_unbekannt                         0.008107\n",
            "Beruf_Beamter                           0.008068\n",
            "Familienstand_ledig                     0.007872\n",
            "Beruf_Angestellter                      0.007408\n",
            "Ausbildung_Allgemeine Hochschulreife    0.007222\n",
            "Familienstand_geschieden                0.006398\n",
            "Beruf_Servicekraft                      0.005890\n",
            "Beruf_Arbeitslos                        0.005097\n",
            "Ausbildung_Mittlere Reife               0.005086\n",
            "Beruf_Selbständig                       0.004740\n",
            "Beruf_Freiberufler                      0.004325\n",
            "Beruf_Hausgehilfin                      0.004289\n",
            "Ausbildung_unbekannt                    0.004111\n",
            "Beruf_Student                           0.004061\n",
            "Ausgefallen                             0.002508\n",
            "dtype: float64\n"
          ],
          "name": "stdout"
        },
        {
          "output_type": "display_data",
          "data": {
            "image/png": "[encoded data removed]",
            "text/plain": [
              "<Figure size 432x288 with 1 Axes>"
            ]
          },
          "metadata": {
            "tags": []
          }
        }
      ]
    },
    {
      "cell_type": "code",
      "metadata": {
        "id": "FTwiY3P8NBmu"
      },
      "source": [
        "mms = pd.read_csv('/content/drive/MyDrive/inf505/bank_marketing_adal_v1.0.csv',sep= ';')\r\n",
        "\r\n"
      ],
      "execution_count": null,
      "outputs": []
    },
    {
      "cell_type": "code",
      "metadata": {
        "id": "lyVfwu18MGIr",
        "colab": {
          "base_uri": "https://localhost:8080/",
          "height": 243
        },
        "outputId": "0714cfac-d7f6-41bb-fd0e-9e6847ea3495"
      },
      "source": [
        "mms = pd.get_dummies(mms, drop_first=True)\r\n",
        "\r\n",
        "mms.head()"
      ],
      "execution_count": null,
      "outputs": [
        {
          "output_type": "execute_result",
          "data": {
            "text/html": [
              "<div>\n",
              "<style scoped>\n",
              "    .dataframe tbody tr th:only-of-type {\n",
              "        vertical-align: middle;\n",
              "    }\n",
              "\n",
              "    .dataframe tbody tr th {\n",
              "        vertical-align: top;\n",
              "    }\n",
              "\n",
              "    .dataframe thead th {\n",
              "        text-align: right;\n",
              "    }\n",
              "</style>\n",
              "<table border=\"1\" class=\"dataframe\">\n",
              "  <thead>\n",
              "    <tr style=\"text-align: right;\">\n",
              "      <th></th>\n",
              "      <th>Alter</th>\n",
              "      <th>Ausgefallen</th>\n",
              "      <th>Kontostand</th>\n",
              "      <th>Eigentum</th>\n",
              "      <th>Darlehen</th>\n",
              "      <th>Dauer</th>\n",
              "      <th>Label</th>\n",
              "      <th>Beruf_Arbeitslos</th>\n",
              "      <th>Beruf_Beamter</th>\n",
              "      <th>Beruf_Freiberufler</th>\n",
              "      <th>Beruf_Hausgehilfin</th>\n",
              "      <th>Beruf_Rentner</th>\n",
              "      <th>Beruf_Selbständig</th>\n",
              "      <th>Beruf_Servicekraft</th>\n",
              "      <th>Beruf_Student</th>\n",
              "      <th>Beruf_Techniker</th>\n",
              "      <th>Beruf_unbekannt</th>\n",
              "      <th>Familienstand_ledig</th>\n",
              "      <th>Familienstand_verheiratet</th>\n",
              "      <th>Ausbildung_Hochschulabschluss</th>\n",
              "      <th>Ausbildung_Mittlere Reife</th>\n",
              "      <th>Ausbildung_unbekannt</th>\n",
              "    </tr>\n",
              "  </thead>\n",
              "  <tbody>\n",
              "    <tr>\n",
              "      <th>0</th>\n",
              "      <td>31</td>\n",
              "      <td>0</td>\n",
              "      <td>162</td>\n",
              "      <td>1</td>\n",
              "      <td>1</td>\n",
              "      <td>0</td>\n",
              "      <td>1</td>\n",
              "      <td>0</td>\n",
              "      <td>0</td>\n",
              "      <td>1</td>\n",
              "      <td>0</td>\n",
              "      <td>0</td>\n",
              "      <td>0</td>\n",
              "      <td>0</td>\n",
              "      <td>0</td>\n",
              "      <td>0</td>\n",
              "      <td>0</td>\n",
              "      <td>0</td>\n",
              "      <td>1</td>\n",
              "      <td>0</td>\n",
              "      <td>0</td>\n",
              "      <td>0</td>\n",
              "    </tr>\n",
              "    <tr>\n",
              "      <th>1</th>\n",
              "      <td>28</td>\n",
              "      <td>0</td>\n",
              "      <td>1595</td>\n",
              "      <td>0</td>\n",
              "      <td>0</td>\n",
              "      <td>1</td>\n",
              "      <td>0</td>\n",
              "      <td>0</td>\n",
              "      <td>1</td>\n",
              "      <td>0</td>\n",
              "      <td>0</td>\n",
              "      <td>0</td>\n",
              "      <td>0</td>\n",
              "      <td>0</td>\n",
              "      <td>0</td>\n",
              "      <td>0</td>\n",
              "      <td>0</td>\n",
              "      <td>0</td>\n",
              "      <td>1</td>\n",
              "      <td>0</td>\n",
              "      <td>0</td>\n",
              "      <td>0</td>\n",
              "    </tr>\n",
              "    <tr>\n",
              "      <th>2</th>\n",
              "      <td>39</td>\n",
              "      <td>0</td>\n",
              "      <td>17441</td>\n",
              "      <td>1</td>\n",
              "      <td>1</td>\n",
              "      <td>1</td>\n",
              "      <td>1</td>\n",
              "      <td>0</td>\n",
              "      <td>0</td>\n",
              "      <td>0</td>\n",
              "      <td>0</td>\n",
              "      <td>0</td>\n",
              "      <td>0</td>\n",
              "      <td>0</td>\n",
              "      <td>0</td>\n",
              "      <td>1</td>\n",
              "      <td>0</td>\n",
              "      <td>0</td>\n",
              "      <td>0</td>\n",
              "      <td>0</td>\n",
              "      <td>0</td>\n",
              "      <td>0</td>\n",
              "    </tr>\n",
              "    <tr>\n",
              "      <th>3</th>\n",
              "      <td>54</td>\n",
              "      <td>0</td>\n",
              "      <td>925</td>\n",
              "      <td>0</td>\n",
              "      <td>0</td>\n",
              "      <td>2</td>\n",
              "      <td>0</td>\n",
              "      <td>1</td>\n",
              "      <td>0</td>\n",
              "      <td>0</td>\n",
              "      <td>0</td>\n",
              "      <td>0</td>\n",
              "      <td>0</td>\n",
              "      <td>0</td>\n",
              "      <td>0</td>\n",
              "      <td>0</td>\n",
              "      <td>0</td>\n",
              "      <td>0</td>\n",
              "      <td>0</td>\n",
              "      <td>0</td>\n",
              "      <td>0</td>\n",
              "      <td>0</td>\n",
              "    </tr>\n",
              "    <tr>\n",
              "      <th>4</th>\n",
              "      <td>24</td>\n",
              "      <td>0</td>\n",
              "      <td>-156</td>\n",
              "      <td>1</td>\n",
              "      <td>0</td>\n",
              "      <td>4</td>\n",
              "      <td>0</td>\n",
              "      <td>0</td>\n",
              "      <td>0</td>\n",
              "      <td>0</td>\n",
              "      <td>0</td>\n",
              "      <td>0</td>\n",
              "      <td>0</td>\n",
              "      <td>0</td>\n",
              "      <td>0</td>\n",
              "      <td>1</td>\n",
              "      <td>0</td>\n",
              "      <td>1</td>\n",
              "      <td>0</td>\n",
              "      <td>0</td>\n",
              "      <td>0</td>\n",
              "      <td>0</td>\n",
              "    </tr>\n",
              "  </tbody>\n",
              "</table>\n",
              "</div>"
            ],
            "text/plain": [
              "   Alter  Ausgefallen  Kontostand  Eigentum  Darlehen  Dauer  Label  \\\n",
              "0     31            0         162         1         1      0      1   \n",
              "1     28            0        1595         0         0      1      0   \n",
              "2     39            0       17441         1         1      1      1   \n",
              "3     54            0         925         0         0      2      0   \n",
              "4     24            0        -156         1         0      4      0   \n",
              "\n",
              "   Beruf_Arbeitslos  Beruf_Beamter  Beruf_Freiberufler  Beruf_Hausgehilfin  \\\n",
              "0                 0              0                   1                   0   \n",
              "1                 0              1                   0                   0   \n",
              "2                 0              0                   0                   0   \n",
              "3                 1              0                   0                   0   \n",
              "4                 0              0                   0                   0   \n",
              "\n",
              "   Beruf_Rentner  Beruf_Selbständig  Beruf_Servicekraft  Beruf_Student  \\\n",
              "0              0                  0                   0              0   \n",
              "1              0                  0                   0              0   \n",
              "2              0                  0                   0              0   \n",
              "3              0                  0                   0              0   \n",
              "4              0                  0                   0              0   \n",
              "\n",
              "   Beruf_Techniker  Beruf_unbekannt  Familienstand_ledig  \\\n",
              "0                0                0                    0   \n",
              "1                0                0                    0   \n",
              "2                1                0                    0   \n",
              "3                0                0                    0   \n",
              "4                1                0                    1   \n",
              "\n",
              "   Familienstand_verheiratet  Ausbildung_Hochschulabschluss  \\\n",
              "0                          1                              0   \n",
              "1                          1                              0   \n",
              "2                          0                              0   \n",
              "3                          0                              0   \n",
              "4                          0                              0   \n",
              "\n",
              "   Ausbildung_Mittlere Reife  Ausbildung_unbekannt  \n",
              "0                          0                     0  \n",
              "1                          0                     0  \n",
              "2                          0                     0  \n",
              "3                          0                     0  \n",
              "4                          0                     0  "
            ]
          },
          "metadata": {
            "tags": []
          },
          "execution_count": 70
        }
      ]
    },
    {
      "cell_type": "code",
      "metadata": {
        "id": "seo2YheHLyVm",
        "colab": {
          "base_uri": "https://localhost:8080/",
          "height": 243
        },
        "outputId": "4ce20041-b0e6-4d20-de8e-6c9f88f9892b"
      },
      "source": [
        "from scipy import stats\r\n",
        "dt_numeric = mms.drop(['Label'],axis=1)\r\n",
        "dt_numeric.head()"
      ],
      "execution_count": null,
      "outputs": [
        {
          "output_type": "execute_result",
          "data": {
            "text/html": [
              "<div>\n",
              "<style scoped>\n",
              "    .dataframe tbody tr th:only-of-type {\n",
              "        vertical-align: middle;\n",
              "    }\n",
              "\n",
              "    .dataframe tbody tr th {\n",
              "        vertical-align: top;\n",
              "    }\n",
              "\n",
              "    .dataframe thead th {\n",
              "        text-align: right;\n",
              "    }\n",
              "</style>\n",
              "<table border=\"1\" class=\"dataframe\">\n",
              "  <thead>\n",
              "    <tr style=\"text-align: right;\">\n",
              "      <th></th>\n",
              "      <th>Alter</th>\n",
              "      <th>Ausgefallen</th>\n",
              "      <th>Kontostand</th>\n",
              "      <th>Eigentum</th>\n",
              "      <th>Darlehen</th>\n",
              "      <th>Dauer</th>\n",
              "      <th>Beruf_Arbeitslos</th>\n",
              "      <th>Beruf_Beamter</th>\n",
              "      <th>Beruf_Freiberufler</th>\n",
              "      <th>Beruf_Hausgehilfin</th>\n",
              "      <th>Beruf_Rentner</th>\n",
              "      <th>Beruf_Selbständig</th>\n",
              "      <th>Beruf_Servicekraft</th>\n",
              "      <th>Beruf_Student</th>\n",
              "      <th>Beruf_Techniker</th>\n",
              "      <th>Beruf_unbekannt</th>\n",
              "      <th>Familienstand_ledig</th>\n",
              "      <th>Familienstand_verheiratet</th>\n",
              "      <th>Ausbildung_Hochschulabschluss</th>\n",
              "      <th>Ausbildung_Mittlere Reife</th>\n",
              "      <th>Ausbildung_unbekannt</th>\n",
              "    </tr>\n",
              "  </thead>\n",
              "  <tbody>\n",
              "    <tr>\n",
              "      <th>0</th>\n",
              "      <td>31</td>\n",
              "      <td>0</td>\n",
              "      <td>162</td>\n",
              "      <td>1</td>\n",
              "      <td>1</td>\n",
              "      <td>0</td>\n",
              "      <td>0</td>\n",
              "      <td>0</td>\n",
              "      <td>1</td>\n",
              "      <td>0</td>\n",
              "      <td>0</td>\n",
              "      <td>0</td>\n",
              "      <td>0</td>\n",
              "      <td>0</td>\n",
              "      <td>0</td>\n",
              "      <td>0</td>\n",
              "      <td>0</td>\n",
              "      <td>1</td>\n",
              "      <td>0</td>\n",
              "      <td>0</td>\n",
              "      <td>0</td>\n",
              "    </tr>\n",
              "    <tr>\n",
              "      <th>1</th>\n",
              "      <td>28</td>\n",
              "      <td>0</td>\n",
              "      <td>1595</td>\n",
              "      <td>0</td>\n",
              "      <td>0</td>\n",
              "      <td>1</td>\n",
              "      <td>0</td>\n",
              "      <td>1</td>\n",
              "      <td>0</td>\n",
              "      <td>0</td>\n",
              "      <td>0</td>\n",
              "      <td>0</td>\n",
              "      <td>0</td>\n",
              "      <td>0</td>\n",
              "      <td>0</td>\n",
              "      <td>0</td>\n",
              "      <td>0</td>\n",
              "      <td>1</td>\n",
              "      <td>0</td>\n",
              "      <td>0</td>\n",
              "      <td>0</td>\n",
              "    </tr>\n",
              "    <tr>\n",
              "      <th>2</th>\n",
              "      <td>39</td>\n",
              "      <td>0</td>\n",
              "      <td>17441</td>\n",
              "      <td>1</td>\n",
              "      <td>1</td>\n",
              "      <td>1</td>\n",
              "      <td>0</td>\n",
              "      <td>0</td>\n",
              "      <td>0</td>\n",
              "      <td>0</td>\n",
              "      <td>0</td>\n",
              "      <td>0</td>\n",
              "      <td>0</td>\n",
              "      <td>0</td>\n",
              "      <td>1</td>\n",
              "      <td>0</td>\n",
              "      <td>0</td>\n",
              "      <td>0</td>\n",
              "      <td>0</td>\n",
              "      <td>0</td>\n",
              "      <td>0</td>\n",
              "    </tr>\n",
              "    <tr>\n",
              "      <th>3</th>\n",
              "      <td>54</td>\n",
              "      <td>0</td>\n",
              "      <td>925</td>\n",
              "      <td>0</td>\n",
              "      <td>0</td>\n",
              "      <td>2</td>\n",
              "      <td>1</td>\n",
              "      <td>0</td>\n",
              "      <td>0</td>\n",
              "      <td>0</td>\n",
              "      <td>0</td>\n",
              "      <td>0</td>\n",
              "      <td>0</td>\n",
              "      <td>0</td>\n",
              "      <td>0</td>\n",
              "      <td>0</td>\n",
              "      <td>0</td>\n",
              "      <td>0</td>\n",
              "      <td>0</td>\n",
              "      <td>0</td>\n",
              "      <td>0</td>\n",
              "    </tr>\n",
              "    <tr>\n",
              "      <th>4</th>\n",
              "      <td>24</td>\n",
              "      <td>0</td>\n",
              "      <td>-156</td>\n",
              "      <td>1</td>\n",
              "      <td>0</td>\n",
              "      <td>4</td>\n",
              "      <td>0</td>\n",
              "      <td>0</td>\n",
              "      <td>0</td>\n",
              "      <td>0</td>\n",
              "      <td>0</td>\n",
              "      <td>0</td>\n",
              "      <td>0</td>\n",
              "      <td>0</td>\n",
              "      <td>1</td>\n",
              "      <td>0</td>\n",
              "      <td>1</td>\n",
              "      <td>0</td>\n",
              "      <td>0</td>\n",
              "      <td>0</td>\n",
              "      <td>0</td>\n",
              "    </tr>\n",
              "  </tbody>\n",
              "</table>\n",
              "</div>"
            ],
            "text/plain": [
              "   Alter  Ausgefallen  Kontostand  Eigentum  Darlehen  Dauer  \\\n",
              "0     31            0         162         1         1      0   \n",
              "1     28            0        1595         0         0      1   \n",
              "2     39            0       17441         1         1      1   \n",
              "3     54            0         925         0         0      2   \n",
              "4     24            0        -156         1         0      4   \n",
              "\n",
              "   Beruf_Arbeitslos  Beruf_Beamter  Beruf_Freiberufler  Beruf_Hausgehilfin  \\\n",
              "0                 0              0                   1                   0   \n",
              "1                 0              1                   0                   0   \n",
              "2                 0              0                   0                   0   \n",
              "3                 1              0                   0                   0   \n",
              "4                 0              0                   0                   0   \n",
              "\n",
              "   Beruf_Rentner  Beruf_Selbständig  Beruf_Servicekraft  Beruf_Student  \\\n",
              "0              0                  0                   0              0   \n",
              "1              0                  0                   0              0   \n",
              "2              0                  0                   0              0   \n",
              "3              0                  0                   0              0   \n",
              "4              0                  0                   0              0   \n",
              "\n",
              "   Beruf_Techniker  Beruf_unbekannt  Familienstand_ledig  \\\n",
              "0                0                0                    0   \n",
              "1                0                0                    0   \n",
              "2                1                0                    0   \n",
              "3                0                0                    0   \n",
              "4                1                0                    1   \n",
              "\n",
              "   Familienstand_verheiratet  Ausbildung_Hochschulabschluss  \\\n",
              "0                          1                              0   \n",
              "1                          1                              0   \n",
              "2                          0                              0   \n",
              "3                          0                              0   \n",
              "4                          0                              0   \n",
              "\n",
              "   Ausbildung_Mittlere Reife  Ausbildung_unbekannt  \n",
              "0                          0                     0  \n",
              "1                          0                     0  \n",
              "2                          0                     0  \n",
              "3                          0                     0  \n",
              "4                          0                     0  "
            ]
          },
          "metadata": {
            "tags": []
          },
          "execution_count": 71
        }
      ]
    },
    {
      "cell_type": "code",
      "metadata": {
        "id": "rsx_UjkyL3vF"
      },
      "source": [
        "z = np.abs(stats.zscore(dt_numeric))\r\n",
        "dt1 = mms[(z < 1).all(axis=1)]"
      ],
      "execution_count": null,
      "outputs": []
    },
    {
      "cell_type": "code",
      "metadata": {
        "id": "j_65-yJdMUJ2",
        "colab": {
          "base_uri": "https://localhost:8080/"
        },
        "outputId": "db41aaa3-409c-4a3f-dafa-7269c7801c47"
      },
      "source": [
        "dt1.shape\r\n"
      ],
      "execution_count": null,
      "outputs": [
        {
          "output_type": "execute_result",
          "data": {
            "text/plain": [
              "(695, 22)"
            ]
          },
          "metadata": {
            "tags": []
          },
          "execution_count": 73
        }
      ]
    },
    {
      "cell_type": "code",
      "metadata": {
        "id": "2tgdE76jPg1W"
      },
      "source": [
        "X = dt1.drop(['Label'],axis=1)\r\n",
        "Y = dt1['Label']\r\n",
        "\r\n",
        "predict = [x for x in dt1.columns if x not in ['Label']]\r\n",
        "X_train, X_test, Y_train, Y_test = train_test_split(X, Y, test_size = 0.3, shuffle = True, stratify = Y, random_state = 4711)"
      ],
      "execution_count": null,
      "outputs": []
    },
    {
      "cell_type": "code",
      "metadata": {
        "id": "g78ZelcUcNsL",
        "colab": {
          "base_uri": "https://localhost:8080/",
          "height": 708
        },
        "outputId": "efbfdd64-2891-4b9e-9bfc-ec609681c02e"
      },
      "source": [
        "Funktionsliste=list(X.columns)\r\n",
        "modelo= RandomForestClassifier(n_estimators=800,random_state=4711)\r\n",
        "modelo.fit(X_train, Y_train)\r\n",
        "Wichtige_Funktionen= pd.Series(modelo.feature_importances_,index=Funktionsliste).sort_values(ascending=False)\r\n",
        "print(Wichtige_Funktionen)\r\n",
        "plt.figure()\r\n",
        "plt.title(\"Wichtige Funktionen\")\r\n",
        "plt.barh(range(X.shape[1]),Wichtige_Funktionen,\r\n",
        "       color=\"r\", align=\"center\")\r\n",
        "plt.yticks(range(X.shape[1]), Wichtige_Funktionen.index)\r\n",
        "plt.ylim([-1, X.shape[1]])\r\n",
        "plt.show()"
      ],
      "execution_count": null,
      "outputs": [
        {
          "output_type": "stream",
          "text": [
            "Dauer                            0.437133\n",
            "Kontostand                       0.370045\n",
            "Alter                            0.192822\n",
            "Beruf_Hausgehilfin               0.000000\n",
            "Ausgefallen                      0.000000\n",
            "Eigentum                         0.000000\n",
            "Darlehen                         0.000000\n",
            "Beruf_Arbeitslos                 0.000000\n",
            "Beruf_Beamter                    0.000000\n",
            "Beruf_Freiberufler               0.000000\n",
            "Ausbildung_unbekannt             0.000000\n",
            "Ausbildung_Mittlere Reife        0.000000\n",
            "Beruf_Selbständig                0.000000\n",
            "Beruf_Servicekraft               0.000000\n",
            "Beruf_Student                    0.000000\n",
            "Beruf_Techniker                  0.000000\n",
            "Beruf_unbekannt                  0.000000\n",
            "Familienstand_ledig              0.000000\n",
            "Familienstand_verheiratet        0.000000\n",
            "Ausbildung_Hochschulabschluss    0.000000\n",
            "Beruf_Rentner                    0.000000\n",
            "dtype: float64\n"
          ],
          "name": "stdout"
        },
        {
          "output_type": "display_data",
          "data": {
            "image/png": "[encoded data removed]",
            "text/plain": [
              "<Figure size 432x288 with 1 Axes>"
            ]
          },
          "metadata": {
            "tags": []
          }
        }
      ]
    },
    {
      "cell_type": "code",
      "metadata": {
        "id": "gB8pvxOtMZ4I",
        "colab": {
          "base_uri": "https://localhost:8080/"
        },
        "outputId": "6df86322-c4e6-4a23-8497-03d98b12c4f1"
      },
      "source": [
        "rf=RandomForestClassifier(bootstrap = True,max_depth= 81,min_samples_leaf= 1,min_samples_split= 10,n_estimators=800 )\r\n",
        "rf.fit(X_train,Y_train)\r\n",
        "results= X_test.copy()\r\n",
        "predictions=rf.predict(X_test)\r\n",
        "results['prediction']=predictions\r\n",
        "accuracy=accuracy_score(Y_test,results['prediction'])\r\n",
        "print(accuracy)"
      ],
      "execution_count": null,
      "outputs": [
        {
          "output_type": "stream",
          "text": [
            "0.9234449760765551\n"
          ],
          "name": "stdout"
        }
      ]
    },
    {
      "cell_type": "code",
      "metadata": {
        "id": "OOz939l4WV3s",
        "colab": {
          "base_uri": "https://localhost:8080/"
        },
        "outputId": "88fe5b67-084f-40cc-ca48-bf0bc6e28333"
      },
      "source": [
        "from sklearn.metrics import roc_auc_score\r\n",
        "predicted_probs = rf.predict_proba(X_test)\r\n",
        "results['probability'] =predicted_probs[:,1]\r\n",
        "auc=roc_auc_score(Y_test,results['probability'])\r\n",
        "print('AUC',auc)"
      ],
      "execution_count": null,
      "outputs": [
        {
          "output_type": "stream",
          "text": [
            "AUC 0.8121000581733566\n"
          ],
          "name": "stdout"
        }
      ]
    },
    {
      "cell_type": "markdown",
      "metadata": {
        "id": "aeCWogGZXDbv"
      },
      "source": [
        "## Andere Methode(Mehr datenmenge/Auc,Weniger accuracy)"
      ]
    },
    {
      "cell_type": "code",
      "metadata": {
        "id": "j6_xiXIGP9cV"
      },
      "source": [
        "mms = pd.read_csv('/content/drive/MyDrive/inf505/bank_marketing_adal_v1.0.csv',sep= ';')\r\n",
        "mms = pd.get_dummies(mms, drop_first=True)"
      ],
      "execution_count": null,
      "outputs": []
    },
    {
      "cell_type": "code",
      "metadata": {
        "id": "Hwm3fEEMOQ6k"
      },
      "source": [
        "dt_numeric = mms.drop(['Label','Ausgefallen','Darlehen','Beruf_Arbeitslos','Beruf_Beamter','Beruf_Freiberufler','Beruf_Hausgehilfin','Beruf_Rentner','Beruf_Selbständig','Beruf_Servicekraft','Beruf_Student','Beruf_Techniker','Beruf_unbekannt','Familienstand_ledig','Familienstand_verheiratet','Ausbildung_Hochschulabschluss','Ausbildung_Mittlere Reife','Ausbildung_unbekannt','Alter','Dauer'],axis=1)\r\n",
        "dt_numeric2 = mms.drop(['Label','Ausgefallen','Darlehen','Beruf_Arbeitslos','Beruf_Beamter','Beruf_Freiberufler','Beruf_Hausgehilfin','Beruf_Rentner','Beruf_Selbständig','Beruf_Servicekraft','Beruf_Student','Beruf_Techniker','Beruf_unbekannt','Familienstand_ledig','Familienstand_verheiratet','Ausbildung_Hochschulabschluss','Ausbildung_Mittlere Reife','Ausbildung_unbekannt','Kontostand'],axis=1)\r\n",
        "z1 = np.abs(stats.zscore(dt_numeric))\r\n",
        "z2 = np.abs(stats.zscore(dt_numeric2))\r\n",
        "dt1 = mms[(z1 < 1).all(axis=1)]\r\n",
        "dt2 = mms[(z2 < 1).all(axis=1)]\r\n",
        "dt = pd.concat([dt1,dt2]).drop_duplicates().reset_index(drop=True)"
      ],
      "execution_count": null,
      "outputs": []
    },
    {
      "cell_type": "code",
      "metadata": {
        "id": "-AkQxkY2PHF1",
        "colab": {
          "base_uri": "https://localhost:8080/"
        },
        "outputId": "a8d4bbd9-ac26-4ad0-f04e-cbf58e5ed182"
      },
      "source": [
        "dt.shape"
      ],
      "execution_count": null,
      "outputs": [
        {
          "output_type": "execute_result",
          "data": {
            "text/plain": [
              "(11240, 22)"
            ]
          },
          "metadata": {
            "tags": []
          },
          "execution_count": 80
        }
      ]
    },
    {
      "cell_type": "code",
      "metadata": {
        "id": "ocrphC6iQW6u"
      },
      "source": [
        "X = dt.drop(['Label'],axis=1)\r\n",
        "Y = dt['Label']\r\n",
        "\r\n",
        "predict = [x for x in dt.columns if x not in ['Label']]\r\n",
        "X_train, X_test, Y_train, Y_test = train_test_split(X, Y, test_size = 0.3, shuffle = True, stratify = Y, random_state = 4711)"
      ],
      "execution_count": null,
      "outputs": []
    },
    {
      "cell_type": "code",
      "metadata": {
        "id": "oleeli8gcbnh",
        "colab": {
          "base_uri": "https://localhost:8080/",
          "height": 708
        },
        "outputId": "6870138c-09bb-45ba-9d98-1ebb1b8733a2"
      },
      "source": [
        "Funktionsliste=list(X.columns)\r\n",
        "modelo= RandomForestClassifier(n_estimators=800,random_state=4711)\r\n",
        "modelo.fit(X_train, Y_train)\r\n",
        "Wichtige_Funktionen= pd.Series(modelo.feature_importances_,index=Funktionsliste).sort_values(ascending=False)\r\n",
        "print(Wichtige_Funktionen)\r\n",
        "plt.figure()\r\n",
        "plt.title(\"Wichtige Funktionen\")\r\n",
        "plt.barh(range(X.shape[1]),Wichtige_Funktionen,\r\n",
        "       color=\"r\", align=\"center\")\r\n",
        "plt.yticks(range(X.shape[1]), Wichtige_Funktionen.index)\r\n",
        "plt.ylim([-1, X.shape[1]])\r\n",
        "plt.show()"
      ],
      "execution_count": null,
      "outputs": [
        {
          "output_type": "stream",
          "text": [
            "Dauer                            0.482130\n",
            "Kontostand                       0.248672\n",
            "Alter                            0.147833\n",
            "Darlehen                         0.012222\n",
            "Ausbildung_Hochschulabschluss    0.011116\n",
            "Beruf_Techniker                  0.010719\n",
            "Familienstand_verheiratet        0.010644\n",
            "Beruf_Beamter                    0.009431\n",
            "Familienstand_ledig              0.008918\n",
            "Beruf_Servicekraft               0.008001\n",
            "Beruf_unbekannt                  0.007885\n",
            "Ausbildung_Mittlere Reife        0.007730\n",
            "Ausbildung_unbekannt             0.006055\n",
            "Beruf_Selbständig                0.005501\n",
            "Beruf_Freiberufler               0.004814\n",
            "Beruf_Rentner                    0.004295\n",
            "Beruf_Arbeitslos                 0.004293\n",
            "Ausgefallen                      0.003879\n",
            "Beruf_Student                    0.003057\n",
            "Beruf_Hausgehilfin               0.002801\n",
            "Eigentum                         0.000000\n",
            "dtype: float64\n"
          ],
          "name": "stdout"
        },
        {
          "output_type": "display_data",
          "data": {
            "image/png": "[encoded data removed]",
            "text/plain": [
              "<Figure size 432x288 with 1 Axes>"
            ]
          },
          "metadata": {
            "tags": []
          }
        }
      ]
    },
    {
      "cell_type": "code",
      "metadata": {
        "id": "A33W1SZVPvsX",
        "colab": {
          "base_uri": "https://localhost:8080/"
        },
        "outputId": "bc4b3ae4-8670-4d48-8dd4-03abe25cb293"
      },
      "source": [
        "rf=RandomForestClassifier(bootstrap = True,max_depth= 81,min_samples_leaf= 1,min_samples_split= 10,n_estimators=800 )\r\n",
        "rf.fit(X_train,Y_train)\r\n",
        "results= X_test.copy()\r\n",
        "predictions=rf.predict(X_test)\r\n",
        "results['prediction']=predictions\r\n",
        "accuracy=accuracy_score(Y_test,results['prediction'])\r\n",
        "print(accuracy)"
      ],
      "execution_count": null,
      "outputs": [
        {
          "output_type": "stream",
          "text": [
            "0.8849347568208779\n"
          ],
          "name": "stdout"
        }
      ]
    },
    {
      "cell_type": "code",
      "metadata": {
        "id": "V4iVWR-WRNDq",
        "colab": {
          "base_uri": "https://localhost:8080/"
        },
        "outputId": "bd1e3641-1e61-44c9-c671-0af855b4dea3"
      },
      "source": [
        "from sklearn.metrics import roc_auc_score\r\n",
        "predicted_probs = rf.predict_proba(X_test)\r\n",
        "results['probability'] =predicted_probs[:,1]\r\n",
        "auc=roc_auc_score(Y_test,results['probability'])\r\n",
        "print('AUC',auc)"
      ],
      "execution_count": null,
      "outputs": [
        {
          "output_type": "stream",
          "text": [
            "AUC 0.8733646391448127\n"
          ],
          "name": "stdout"
        }
      ]
    }
  ]
}